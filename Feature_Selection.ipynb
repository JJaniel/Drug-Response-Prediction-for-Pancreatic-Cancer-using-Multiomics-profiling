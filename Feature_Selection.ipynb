{
  "cells": [
    {
      "cell_type": "markdown",
      "metadata": {
        "id": "2J1t65QS0xxu"
      },
      "source": [
        "Feature selection process"
      ]
    },
    {
      "cell_type": "code",
      "execution_count": 69,
      "metadata": {
        "id": "IdSU1ouLHlf0"
      },
      "outputs": [],
      "source": [
        "import pandas as pd"
      ]
    },
    {
      "cell_type": "code",
      "execution_count": 70,
      "metadata": {},
      "outputs": [],
      "source": [
        "pancreatic_cellline=[['PSN1','MIAPaCa2','CAPAN1','BxPC3','CFPAC1','AsPC1','CAPAN2','PANC0327','PANC0813','PANC1005','CCK81','PATU8988T','SUIT2','HPAC','PANC0203','PANC0403','PATU8902','QGP1']]"
      ]
    },
    {
      "cell_type": "code",
      "execution_count": 71,
      "metadata": {
        "id": "G8isKPqt0xRh"
      },
      "outputs": [],
      "source": [
        "CCLE_chromatin=pd.read_csv('CCLE_chromatin.csv')"
      ]
    },
    {
      "cell_type": "code",
      "execution_count": 72,
      "metadata": {},
      "outputs": [],
      "source": [
        "import pandas as pd\n",
        "\n",
        "# Define the list of cell line names\n",
        "Pancr_cell_line = ['PSN1', 'MIAPaCa2', 'CAPAN1', 'BXPC3', 'CFPAC1', 'ASPC1', 'CAPAN2', 'PANC0327', 'PANC0813', 'PANC1005', 'CCK81', 'PATU8988T', 'SUIT2', 'HPAC', 'PANC0203', 'PANC0403', 'PATU8902', 'QGP1']\n",
        "\n",
        "# Create a DataFrame with a column named 'CELL_LINE'\n",
        "pancancer = pd.DataFrame({'CELL_LINE': Pancr_cell_line})\n",
        "\n",
        "# Now, the 'df' DataFrame contains the 'CELL_LINE' column with the specified cell line names\n",
        "# Assuming 'CELL_LINE' is a common column between pancancer and CCLE_chromatin\n",
        "CCLE_chromatin = CCLE_chromatin.merge(pancancer[['CELL_LINE']], on='CELL_LINE', how='inner')\n",
        "\n",
        "# Now, filtered_CCLE_chromatin contains only the rows with 'CELL_LINE' values present in pancancer\n"
      ]
    },
    {
      "cell_type": "code",
      "execution_count": 74,
      "metadata": {},
      "outputs": [
        {
          "data": {
            "text/html": [
              "<div>\n",
              "<style scoped>\n",
              "    .dataframe tbody tr th:only-of-type {\n",
              "        vertical-align: middle;\n",
              "    }\n",
              "\n",
              "    .dataframe tbody tr th {\n",
              "        vertical-align: top;\n",
              "    }\n",
              "\n",
              "    .dataframe thead th {\n",
              "        text-align: right;\n",
              "    }\n",
              "</style>\n",
              "<table border=\"1\" class=\"dataframe\">\n",
              "  <thead>\n",
              "    <tr style=\"text-align: right;\">\n",
              "      <th></th>\n",
              "      <th>CellLineName</th>\n",
              "      <th>CELL_LINE</th>\n",
              "      <th>CELL_LINE_NAME</th>\n",
              "      <th>BroadID</th>\n",
              "      <th>H3K4me0</th>\n",
              "      <th>H3K4me1</th>\n",
              "      <th>H3K4me2</th>\n",
              "      <th>H3K4ac1</th>\n",
              "      <th>H3K9me0K14ac0</th>\n",
              "      <th>H3K9me1K14ac0</th>\n",
              "      <th>...</th>\n",
              "      <th>H3K56me0</th>\n",
              "      <th>H3K56me1</th>\n",
              "      <th>H3K79me0</th>\n",
              "      <th>H3K79me1</th>\n",
              "      <th>H3K79me2</th>\n",
              "      <th>DRUG_NAME</th>\n",
              "      <th>IC50</th>\n",
              "      <th>AUC</th>\n",
              "      <th>Cluster</th>\n",
              "      <th>IC50_Class</th>\n",
              "    </tr>\n",
              "  </thead>\n",
              "  <tbody>\n",
              "    <tr>\n",
              "      <th>0</th>\n",
              "      <td>HPAC_PANCREAS</td>\n",
              "      <td>HPAC</td>\n",
              "      <td>PANCREAS</td>\n",
              "      <td>ACH-000270</td>\n",
              "      <td>0.163498</td>\n",
              "      <td>0.373213</td>\n",
              "      <td>-0.052332</td>\n",
              "      <td>1.021589</td>\n",
              "      <td>0.030446</td>\n",
              "      <td>-0.229386</td>\n",
              "      <td>...</td>\n",
              "      <td>0.405092</td>\n",
              "      <td>NaN</td>\n",
              "      <td>0.065864</td>\n",
              "      <td>0.292132</td>\n",
              "      <td>0.174547</td>\n",
              "      <td>Nilotinib</td>\n",
              "      <td>7.072412</td>\n",
              "      <td>0.95970</td>\n",
              "      <td>0.0</td>\n",
              "      <td>High</td>\n",
              "    </tr>\n",
              "    <tr>\n",
              "      <th>1</th>\n",
              "      <td>HPAC_PANCREAS</td>\n",
              "      <td>HPAC</td>\n",
              "      <td>PANCREAS</td>\n",
              "      <td>ACH-000270</td>\n",
              "      <td>0.163498</td>\n",
              "      <td>0.373213</td>\n",
              "      <td>-0.052332</td>\n",
              "      <td>1.021589</td>\n",
              "      <td>0.030446</td>\n",
              "      <td>-0.229386</td>\n",
              "      <td>...</td>\n",
              "      <td>0.405092</td>\n",
              "      <td>NaN</td>\n",
              "      <td>0.065864</td>\n",
              "      <td>0.292132</td>\n",
              "      <td>0.174547</td>\n",
              "      <td>17-AAG</td>\n",
              "      <td>0.090495</td>\n",
              "      <td>3.90500</td>\n",
              "      <td>1.0</td>\n",
              "      <td>Low</td>\n",
              "    </tr>\n",
              "    <tr>\n",
              "      <th>2</th>\n",
              "      <td>HPAC_PANCREAS</td>\n",
              "      <td>HPAC</td>\n",
              "      <td>PANCREAS</td>\n",
              "      <td>ACH-000270</td>\n",
              "      <td>0.163498</td>\n",
              "      <td>0.373213</td>\n",
              "      <td>-0.052332</td>\n",
              "      <td>1.021589</td>\n",
              "      <td>0.030446</td>\n",
              "      <td>-0.229386</td>\n",
              "      <td>...</td>\n",
              "      <td>0.405092</td>\n",
              "      <td>NaN</td>\n",
              "      <td>0.065864</td>\n",
              "      <td>0.292132</td>\n",
              "      <td>0.174547</td>\n",
              "      <td>PHA-665752</td>\n",
              "      <td>0.054660</td>\n",
              "      <td>1.16330</td>\n",
              "      <td>1.0</td>\n",
              "      <td>Low</td>\n",
              "    </tr>\n",
              "    <tr>\n",
              "      <th>3</th>\n",
              "      <td>HPAC_PANCREAS</td>\n",
              "      <td>HPAC</td>\n",
              "      <td>PANCREAS</td>\n",
              "      <td>ACH-000270</td>\n",
              "      <td>0.163498</td>\n",
              "      <td>0.373213</td>\n",
              "      <td>-0.052332</td>\n",
              "      <td>1.021589</td>\n",
              "      <td>0.030446</td>\n",
              "      <td>-0.229386</td>\n",
              "      <td>...</td>\n",
              "      <td>0.405092</td>\n",
              "      <td>NaN</td>\n",
              "      <td>0.065864</td>\n",
              "      <td>0.292132</td>\n",
              "      <td>0.174547</td>\n",
              "      <td>Lapatinib</td>\n",
              "      <td>8.000000</td>\n",
              "      <td>0.50410</td>\n",
              "      <td>0.0</td>\n",
              "      <td>High</td>\n",
              "    </tr>\n",
              "    <tr>\n",
              "      <th>4</th>\n",
              "      <td>HPAC_PANCREAS</td>\n",
              "      <td>HPAC</td>\n",
              "      <td>PANCREAS</td>\n",
              "      <td>ACH-000270</td>\n",
              "      <td>0.163498</td>\n",
              "      <td>0.373213</td>\n",
              "      <td>-0.052332</td>\n",
              "      <td>1.021589</td>\n",
              "      <td>0.030446</td>\n",
              "      <td>-0.229386</td>\n",
              "      <td>...</td>\n",
              "      <td>0.405092</td>\n",
              "      <td>NaN</td>\n",
              "      <td>0.065864</td>\n",
              "      <td>0.292132</td>\n",
              "      <td>0.174547</td>\n",
              "      <td>Nutlin-3</td>\n",
              "      <td>8.000000</td>\n",
              "      <td>0.69480</td>\n",
              "      <td>0.0</td>\n",
              "      <td>High</td>\n",
              "    </tr>\n",
              "    <tr>\n",
              "      <th>...</th>\n",
              "      <td>...</td>\n",
              "      <td>...</td>\n",
              "      <td>...</td>\n",
              "      <td>...</td>\n",
              "      <td>...</td>\n",
              "      <td>...</td>\n",
              "      <td>...</td>\n",
              "      <td>...</td>\n",
              "      <td>...</td>\n",
              "      <td>...</td>\n",
              "      <td>...</td>\n",
              "      <td>...</td>\n",
              "      <td>...</td>\n",
              "      <td>...</td>\n",
              "      <td>...</td>\n",
              "      <td>...</td>\n",
              "      <td>...</td>\n",
              "      <td>...</td>\n",
              "      <td>...</td>\n",
              "      <td>...</td>\n",
              "      <td>...</td>\n",
              "    </tr>\n",
              "    <tr>\n",
              "      <th>144</th>\n",
              "      <td>PSN1_PANCREAS</td>\n",
              "      <td>PSN1</td>\n",
              "      <td>PANCREAS</td>\n",
              "      <td>ACH-000320</td>\n",
              "      <td>0.195761</td>\n",
              "      <td>0.019582</td>\n",
              "      <td>0.266214</td>\n",
              "      <td>0.081958</td>\n",
              "      <td>0.600551</td>\n",
              "      <td>0.639993</td>\n",
              "      <td>...</td>\n",
              "      <td>0.215729</td>\n",
              "      <td>NaN</td>\n",
              "      <td>0.439061</td>\n",
              "      <td>0.085986</td>\n",
              "      <td>0.297424</td>\n",
              "      <td>AZD6244</td>\n",
              "      <td>0.797091</td>\n",
              "      <td>2.46930</td>\n",
              "      <td>1.0</td>\n",
              "      <td>Low</td>\n",
              "    </tr>\n",
              "    <tr>\n",
              "      <th>145</th>\n",
              "      <td>PSN1_PANCREAS</td>\n",
              "      <td>PSN1</td>\n",
              "      <td>PANCREAS</td>\n",
              "      <td>ACH-000320</td>\n",
              "      <td>0.195761</td>\n",
              "      <td>0.019582</td>\n",
              "      <td>0.266214</td>\n",
              "      <td>0.081958</td>\n",
              "      <td>0.600551</td>\n",
              "      <td>0.639993</td>\n",
              "      <td>...</td>\n",
              "      <td>0.215729</td>\n",
              "      <td>NaN</td>\n",
              "      <td>0.439061</td>\n",
              "      <td>0.085986</td>\n",
              "      <td>0.297424</td>\n",
              "      <td>PLX4720</td>\n",
              "      <td>8.000000</td>\n",
              "      <td>0.07306</td>\n",
              "      <td>0.0</td>\n",
              "      <td>High</td>\n",
              "    </tr>\n",
              "    <tr>\n",
              "      <th>146</th>\n",
              "      <td>PSN1_PANCREAS</td>\n",
              "      <td>PSN1</td>\n",
              "      <td>PANCREAS</td>\n",
              "      <td>ACH-000320</td>\n",
              "      <td>0.195761</td>\n",
              "      <td>0.019582</td>\n",
              "      <td>0.266214</td>\n",
              "      <td>0.081958</td>\n",
              "      <td>0.600551</td>\n",
              "      <td>0.639993</td>\n",
              "      <td>...</td>\n",
              "      <td>0.215729</td>\n",
              "      <td>NaN</td>\n",
              "      <td>0.439061</td>\n",
              "      <td>0.085986</td>\n",
              "      <td>0.297424</td>\n",
              "      <td>NVP-TAE684</td>\n",
              "      <td>7.245392</td>\n",
              "      <td>0.86930</td>\n",
              "      <td>0.0</td>\n",
              "      <td>High</td>\n",
              "    </tr>\n",
              "    <tr>\n",
              "      <th>147</th>\n",
              "      <td>PSN1_PANCREAS</td>\n",
              "      <td>PSN1</td>\n",
              "      <td>PANCREAS</td>\n",
              "      <td>ACH-000320</td>\n",
              "      <td>0.195761</td>\n",
              "      <td>0.019582</td>\n",
              "      <td>0.266214</td>\n",
              "      <td>0.081958</td>\n",
              "      <td>0.600551</td>\n",
              "      <td>0.639993</td>\n",
              "      <td>...</td>\n",
              "      <td>0.215729</td>\n",
              "      <td>NaN</td>\n",
              "      <td>0.439061</td>\n",
              "      <td>0.085986</td>\n",
              "      <td>0.297424</td>\n",
              "      <td>Erlotinib</td>\n",
              "      <td>8.000000</td>\n",
              "      <td>0.21990</td>\n",
              "      <td>0.0</td>\n",
              "      <td>High</td>\n",
              "    </tr>\n",
              "    <tr>\n",
              "      <th>148</th>\n",
              "      <td>PATU8988T_PANCREAS</td>\n",
              "      <td>PATU8988T</td>\n",
              "      <td>PANCREAS</td>\n",
              "      <td>ACH-000023</td>\n",
              "      <td>0.038486</td>\n",
              "      <td>0.038215</td>\n",
              "      <td>-0.401776</td>\n",
              "      <td>0.372312</td>\n",
              "      <td>0.358149</td>\n",
              "      <td>0.275237</td>\n",
              "      <td>...</td>\n",
              "      <td>-0.079811</td>\n",
              "      <td>NaN</td>\n",
              "      <td>0.061076</td>\n",
              "      <td>-0.233707</td>\n",
              "      <td>0.317449</td>\n",
              "      <td>NaN</td>\n",
              "      <td>NaN</td>\n",
              "      <td>NaN</td>\n",
              "      <td>NaN</td>\n",
              "      <td>NaN</td>\n",
              "    </tr>\n",
              "  </tbody>\n",
              "</table>\n",
              "<p>149 rows × 51 columns</p>\n",
              "</div>"
            ],
            "text/plain": [
              "           CellLineName  CELL_LINE CELL_LINE_NAME     BroadID   H3K4me0  \\\n",
              "0         HPAC_PANCREAS       HPAC       PANCREAS  ACH-000270  0.163498   \n",
              "1         HPAC_PANCREAS       HPAC       PANCREAS  ACH-000270  0.163498   \n",
              "2         HPAC_PANCREAS       HPAC       PANCREAS  ACH-000270  0.163498   \n",
              "3         HPAC_PANCREAS       HPAC       PANCREAS  ACH-000270  0.163498   \n",
              "4         HPAC_PANCREAS       HPAC       PANCREAS  ACH-000270  0.163498   \n",
              "..                  ...        ...            ...         ...       ...   \n",
              "144       PSN1_PANCREAS       PSN1       PANCREAS  ACH-000320  0.195761   \n",
              "145       PSN1_PANCREAS       PSN1       PANCREAS  ACH-000320  0.195761   \n",
              "146       PSN1_PANCREAS       PSN1       PANCREAS  ACH-000320  0.195761   \n",
              "147       PSN1_PANCREAS       PSN1       PANCREAS  ACH-000320  0.195761   \n",
              "148  PATU8988T_PANCREAS  PATU8988T       PANCREAS  ACH-000023  0.038486   \n",
              "\n",
              "      H3K4me1   H3K4me2   H3K4ac1  H3K9me0K14ac0  H3K9me1K14ac0  ...  \\\n",
              "0    0.373213 -0.052332  1.021589       0.030446      -0.229386  ...   \n",
              "1    0.373213 -0.052332  1.021589       0.030446      -0.229386  ...   \n",
              "2    0.373213 -0.052332  1.021589       0.030446      -0.229386  ...   \n",
              "3    0.373213 -0.052332  1.021589       0.030446      -0.229386  ...   \n",
              "4    0.373213 -0.052332  1.021589       0.030446      -0.229386  ...   \n",
              "..        ...       ...       ...            ...            ...  ...   \n",
              "144  0.019582  0.266214  0.081958       0.600551       0.639993  ...   \n",
              "145  0.019582  0.266214  0.081958       0.600551       0.639993  ...   \n",
              "146  0.019582  0.266214  0.081958       0.600551       0.639993  ...   \n",
              "147  0.019582  0.266214  0.081958       0.600551       0.639993  ...   \n",
              "148  0.038215 -0.401776  0.372312       0.358149       0.275237  ...   \n",
              "\n",
              "     H3K56me0  H3K56me1  H3K79me0  H3K79me1  H3K79me2   DRUG_NAME      IC50  \\\n",
              "0    0.405092       NaN  0.065864  0.292132  0.174547   Nilotinib  7.072412   \n",
              "1    0.405092       NaN  0.065864  0.292132  0.174547      17-AAG  0.090495   \n",
              "2    0.405092       NaN  0.065864  0.292132  0.174547  PHA-665752  0.054660   \n",
              "3    0.405092       NaN  0.065864  0.292132  0.174547   Lapatinib  8.000000   \n",
              "4    0.405092       NaN  0.065864  0.292132  0.174547    Nutlin-3  8.000000   \n",
              "..        ...       ...       ...       ...       ...         ...       ...   \n",
              "144  0.215729       NaN  0.439061  0.085986  0.297424     AZD6244  0.797091   \n",
              "145  0.215729       NaN  0.439061  0.085986  0.297424     PLX4720  8.000000   \n",
              "146  0.215729       NaN  0.439061  0.085986  0.297424  NVP-TAE684  7.245392   \n",
              "147  0.215729       NaN  0.439061  0.085986  0.297424   Erlotinib  8.000000   \n",
              "148 -0.079811       NaN  0.061076 -0.233707  0.317449         NaN       NaN   \n",
              "\n",
              "         AUC  Cluster  IC50_Class  \n",
              "0    0.95970      0.0        High  \n",
              "1    3.90500      1.0         Low  \n",
              "2    1.16330      1.0         Low  \n",
              "3    0.50410      0.0        High  \n",
              "4    0.69480      0.0        High  \n",
              "..       ...      ...         ...  \n",
              "144  2.46930      1.0         Low  \n",
              "145  0.07306      0.0        High  \n",
              "146  0.86930      0.0        High  \n",
              "147  0.21990      0.0        High  \n",
              "148      NaN      NaN         NaN  \n",
              "\n",
              "[149 rows x 51 columns]"
            ]
          },
          "execution_count": 74,
          "metadata": {},
          "output_type": "execute_result"
        }
      ],
      "source": [
        "CCLE_chromatin"
      ]
    },
    {
      "cell_type": "code",
      "execution_count": 75,
      "metadata": {
        "id": "jMhhEK3T8Oxa"
      },
      "outputs": [],
      "source": [
        "selected=['H3K4ac1','H3K18ac0K23ub1','H3K56me1']"
      ]
    },
    {
      "cell_type": "code",
      "execution_count": 76,
      "metadata": {
        "id": "7fuQ8w3878qD"
      },
      "outputs": [],
      "source": [
        "CCLE_chromatin=CCLE_chromatin.drop(selected,axis=1)"
      ]
    },
    {
      "cell_type": "code",
      "execution_count": 77,
      "metadata": {
        "id": "cvEzDXXQ9Z7g"
      },
      "outputs": [],
      "source": [
        "CCLE_chromatin = CCLE_chromatin.dropna(subset=['DRUG_NAME', 'IC50', 'AUC', 'Cluster', 'IC50_Class'])"
      ]
    },
    {
      "cell_type": "code",
      "execution_count": 78,
      "metadata": {
        "id": "pJtXDsnC_F15"
      },
      "outputs": [],
      "source": [
        "CCLE_chromatin = CCLE_chromatin.interpolate(method='polynomial', order=2)"
      ]
    },
    {
      "cell_type": "code",
      "execution_count": 79,
      "metadata": {
        "id": "pBkDMlaw7oAx"
      },
      "outputs": [
        {
          "data": {
            "text/plain": [
              "CellLineName        0\n",
              "CELL_LINE           0\n",
              "CELL_LINE_NAME      0\n",
              "BroadID             0\n",
              "H3K4me0             0\n",
              "H3K4me1             0\n",
              "H3K4me2             0\n",
              "H3K9me0K14ac0       0\n",
              "H3K9me1K14ac0       0\n",
              "H3K9me2K14ac0       0\n",
              "H3K9me3K14ac0       0\n",
              "H3K9ac1K14ac0       0\n",
              "H3K9me0K14ac1       0\n",
              "H3K9me1K14ac1       0\n",
              "H3K9me2K14ac1       0\n",
              "H3K9me3K14ac1       0\n",
              "H3K9ac1K14ac1       0\n",
              "H3K18ac0K23ac0      0\n",
              "H3K18ac1K23ac0      0\n",
              "H3K18ac0K23ac1      0\n",
              "H3K18ac1K23ac1      0\n",
              "H3K27me0K36me0      0\n",
              "H3K27me0K36me1      0\n",
              "H3K27me0K36me2      0\n",
              "H3K27me0K36me3      0\n",
              "H3K27me1K36me0      0\n",
              "H3K27me1K36me1      0\n",
              "H3K27me1K36me2      0\n",
              "H3K27me1K36me3      0\n",
              "H3K27me2K36me0      0\n",
              "H3K27me2K36me1      0\n",
              "H3K27me2K36me2      0\n",
              "H3K27me3K36me0      0\n",
              "H3K27me3K36me1      0\n",
              "H3K27ac1K36me0      0\n",
              "H3K27ac1K36me1      0\n",
              "H3K27ac1K36me2      0\n",
              "H3K27ac1K36me3      0\n",
              "H3.3K27me0K36me0    0\n",
              "H3K56me0            0\n",
              "H3K79me0            0\n",
              "H3K79me1            0\n",
              "H3K79me2            0\n",
              "DRUG_NAME           0\n",
              "IC50                0\n",
              "AUC                 0\n",
              "Cluster             0\n",
              "IC50_Class          0\n",
              "dtype: int64"
            ]
          },
          "execution_count": 79,
          "metadata": {},
          "output_type": "execute_result"
        }
      ],
      "source": [
        "CCLE_chromatin.isna().sum()"
      ]
    },
    {
      "cell_type": "code",
      "execution_count": 81,
      "metadata": {
        "id": "e3hptF3p_N1Q"
      },
      "outputs": [
        {
          "data": {
            "text/plain": [
              "Index(['CellLineName', 'CELL_LINE', 'CELL_LINE_NAME', 'BroadID', 'H3K4me0',\n",
              "       'H3K4me1', 'H3K4me2', 'H3K9me0K14ac0', 'H3K9me1K14ac0', 'H3K9me2K14ac0',\n",
              "       'H3K9me3K14ac0', 'H3K9ac1K14ac0', 'H3K9me0K14ac1', 'H3K9me1K14ac1',\n",
              "       'H3K9me2K14ac1', 'H3K9me3K14ac1', 'H3K9ac1K14ac1', 'H3K18ac0K23ac0',\n",
              "       'H3K18ac1K23ac0', 'H3K18ac0K23ac1', 'H3K18ac1K23ac1', 'H3K27me0K36me0',\n",
              "       'H3K27me0K36me1', 'H3K27me0K36me2', 'H3K27me0K36me3', 'H3K27me1K36me0',\n",
              "       'H3K27me1K36me1', 'H3K27me1K36me2', 'H3K27me1K36me3', 'H3K27me2K36me0',\n",
              "       'H3K27me2K36me1', 'H3K27me2K36me2', 'H3K27me3K36me0', 'H3K27me3K36me1',\n",
              "       'H3K27ac1K36me0', 'H3K27ac1K36me1', 'H3K27ac1K36me2', 'H3K27ac1K36me3',\n",
              "       'H3.3K27me0K36me0', 'H3K56me0', 'H3K79me0', 'H3K79me1', 'H3K79me2',\n",
              "       'DRUG_NAME', 'IC50', 'AUC', 'Cluster', 'IC50_Class'],\n",
              "      dtype='object')"
            ]
          },
          "execution_count": 81,
          "metadata": {},
          "output_type": "execute_result"
        }
      ],
      "source": [
        "CCLE_chromatin.columns"
      ]
    },
    {
      "cell_type": "code",
      "execution_count": 82,
      "metadata": {
        "id": "gwxqCMgt_m8u"
      },
      "outputs": [],
      "source": [
        "CCLE_chromatin_towork=CCLE_chromatin[['H3K4me0',\n",
        "       'H3K4me1', 'H3K4me2', 'H3K9me0K14ac0', 'H3K9me1K14ac0', 'H3K9me2K14ac0',\n",
        "       'H3K9me3K14ac0', 'H3K9ac1K14ac0', 'H3K9me0K14ac1', 'H3K9me1K14ac1',\n",
        "       'H3K9me2K14ac1', 'H3K9me3K14ac1', 'H3K9ac1K14ac1', 'H3K18ac0K23ac0',\n",
        "       'H3K18ac1K23ac0', 'H3K18ac0K23ac1', 'H3K18ac1K23ac1', 'H3K27me0K36me0',\n",
        "       'H3K27me0K36me1', 'H3K27me0K36me2', 'H3K27me0K36me3', 'H3K27me1K36me0',\n",
        "       'H3K27me1K36me1', 'H3K27me1K36me2', 'H3K27me1K36me3', 'H3K27me2K36me0',\n",
        "       'H3K27me2K36me1', 'H3K27me2K36me2', 'H3K27me3K36me0', 'H3K27me3K36me1',\n",
        "       'H3K27ac1K36me0', 'H3K27ac1K36me1', 'H3K27ac1K36me2', 'H3K27ac1K36me3',\n",
        "       'H3.3K27me0K36me0', 'H3K56me0', 'H3K79me0', 'H3K79me1', 'H3K79me2','Cluster']]"
      ]
    },
    {
      "cell_type": "code",
      "execution_count": 83,
      "metadata": {},
      "outputs": [
        {
          "data": {
            "text/plain": [
              "Index(['H3K4me0', 'H3K4me1', 'H3K4me2', 'H3K9me0K14ac0', 'H3K9me1K14ac0',\n",
              "       'H3K9me2K14ac0', 'H3K9me3K14ac0', 'H3K9ac1K14ac0', 'H3K9me0K14ac1',\n",
              "       'H3K9me1K14ac1', 'H3K9me2K14ac1', 'H3K9me3K14ac1', 'H3K9ac1K14ac1',\n",
              "       'H3K18ac0K23ac0', 'H3K18ac1K23ac0', 'H3K18ac0K23ac1', 'H3K18ac1K23ac1',\n",
              "       'H3K27me0K36me0', 'H3K27me0K36me1', 'H3K27me0K36me2', 'H3K27me0K36me3',\n",
              "       'H3K27me1K36me0', 'H3K27me1K36me1', 'H3K27me1K36me2', 'H3K27me1K36me3',\n",
              "       'H3K27me2K36me0', 'H3K27me2K36me1', 'H3K27me2K36me2', 'H3K27me3K36me0',\n",
              "       'H3K27me3K36me1', 'H3K27ac1K36me0', 'H3K27ac1K36me1', 'H3K27ac1K36me2',\n",
              "       'H3K27ac1K36me3', 'H3.3K27me0K36me0', 'H3K56me0', 'H3K79me0',\n",
              "       'H3K79me1', 'H3K79me2', 'Cluster'],\n",
              "      dtype='object')"
            ]
          },
          "execution_count": 83,
          "metadata": {},
          "output_type": "execute_result"
        }
      ],
      "source": [
        "CCLE_chromatin_towork.columns"
      ]
    },
    {
      "cell_type": "markdown",
      "metadata": {},
      "source": [
        "filtering pancreatic cell line names"
      ]
    },
    {
      "cell_type": "markdown",
      "metadata": {
        "id": "hYTuHlq3DkSt"
      },
      "source": [
        "feature selection methods"
      ]
    },
    {
      "cell_type": "code",
      "execution_count": null,
      "metadata": {
        "id": "I2Vw5NCBDtUO"
      },
      "outputs": [],
      "source": [
        "!pip install Boruta\n",
        "!pip install shap"
      ]
    },
    {
      "cell_type": "code",
      "execution_count": 85,
      "metadata": {
        "id": "YIoemigK-NeU"
      },
      "outputs": [],
      "source": [
        "import pandas as pd\n",
        "from sklearn.feature_selection import SelectKBest, mutual_info_classif, RFE, SelectFromModel\n",
        "from sklearn.ensemble import RandomForestClassifier\n",
        "from sklearn.linear_model import Lasso\n",
        "from sklearn.preprocessing import MinMaxScaler\n",
        "from sklearn.feature_selection import chi2\n",
        "from collections import Counter\n",
        "\n",
        "# Define the feature selection methods\n",
        "methods = [\n",
        "    ('Mutual Information', SelectKBest(mutual_info_classif, k=20)),\n",
        "    ('Random Forest', SelectKBest(lambda X, y: RandomForestClassifier(n_estimators=100).fit(X, y).feature_importances_, k=20)),\n",
        "    ('Chi-squared', SelectKBest(chi2, k=20)),\n",
        "    ('RFE', RFE(estimator=RandomForestClassifier(n_estimators=100), n_features_to_select=20)),\n",
        "    ('LASSO', SelectFromModel(Lasso(alpha=0.01))),\n",
        "    # Add more methods as needed\n",
        "]\n",
        "\n",
        "# Initialize a dictionary to keep track of feature selections\n",
        "selected_features_CCLE_chromatin = {feature: 0 for feature in CCLE_chromatin_towork.columns}\n",
        "\n",
        "# Define X and y outside the loop\n",
        "X = CCLE_chromatin_towork.drop('Cluster', axis=1)  # Features\n",
        "# Apply Min-Max scaling to make all values non-negative\n",
        "scaler = MinMaxScaler()\n",
        "X = scaler.fit_transform(X)\n",
        "y = CCLE_chromatin_towork['Cluster']  # Target\n",
        "\n",
        "# Apply feature selection methods\n",
        "for method_name, method in methods:\n",
        "    # Fit the feature selection method\n",
        "    method.fit(X, y)\n",
        "\n",
        "    # Update the selected_features dictionary based on the selected features\n",
        "    selected_indices_chromatin = method.get_support(indices=True)\n",
        "    for feature_idx in selected_indices_chromatin:\n",
        "        selected_features_CCLE_chromatin[CCLE_chromatin_towork.columns[feature_idx]] += 1\n",
        "\n",
        "# Find the top 20 features most frequently selected\n",
        "top_20_features_CCLE_chromatin = [feature for feature, count in Counter(selected_features_CCLE_chromatin).most_common(20)]\n",
        "\n",
        "# Create a new DataFrame with the top 20 features\n",
        "top_20_counts_CCLE_chromatin = CCLE_chromatin_towork[top_20_features_CCLE_chromatin + ['Cluster']]\n"
      ]
    },
    {
      "cell_type": "markdown",
      "metadata": {
        "id": "CTCEHeBMG6kB"
      },
      "source": [
        "Plotting the counts"
      ]
    },
    {
      "cell_type": "code",
      "execution_count": null,
      "metadata": {
        "colab": {
          "base_uri": "https://localhost:8080/",
          "height": 564
        },
        "id": "4cteHTMNKU_Q",
        "outputId": "9e7893f6-5c75-4231-ce28-53c07506eefc"
      },
      "outputs": [
        {
          "data": {
            "image/png": "[encoded data removed]",
            "text/plain": [
              "<Figure size 1200x600 with 1 Axes>"
            ]
          },
          "metadata": {},
          "output_type": "display_data"
        }
      ],
      "source": [
        "from collections import Counter\n",
        "import matplotlib.pyplot as plt\n",
        "import numpy as np\n",
        "\n",
        "# Find the top 20 features most frequently selected\n",
        "top_features_with_counts_CCLE_chromatin = [(feature, count) for feature, count in Counter(selected_features_CCLE_chromatin).most_common(20)]\n",
        "\n",
        "# Extract the top 20 features and their counts into separate lists\n",
        "top_20_features_CCLE_chromatin = [feature for feature, count in top_features_with_counts_CCLE_chromatin]\n",
        "top_20_counts_CCLE_chromatin = [count for feature, count in top_features_with_counts_CCLE_chromatin]\n",
        "\n",
        "# Define a single color shade that decreases for each feature\n",
        "base_color = '#1f77b4'  # Base color\n",
        "\n",
        "# Create a figure and axis\n",
        "fig, ax = plt.subplots(figsize=(12, 6))\n",
        "\n",
        "# Create a range of colors with decreasing brightness\n",
        "colors = [base_color if i == 0 else plt.cm.viridis(i / 20) for i in range(20)]\n",
        "\n",
        "# Create a colorful bar chart with decreasing color shade\n",
        "bars = ax.barh(top_20_features_CCLE_chromatin, top_20_counts_CCLE_chromatin, color=colors)\n",
        "plt.xlabel('Counts')\n",
        "plt.title('Top 20 Features of Chromatin Profiling data and Their Counts')\n",
        "plt.gca().invert_yaxis()\n",
        "\n",
        "# Display the chart\n",
        "plt.show()\n"
      ]
    },
    {
      "cell_type": "code",
      "execution_count": null,
      "metadata": {
        "colab": {
          "base_uri": "https://localhost:8080/",
          "height": 542
        },
        "id": "HbHLWNpPF-dK",
        "outputId": "1a7abdc4-3d2a-4f84-fe2f-f3d59c7e5de5"
      },
      "outputs": [
        {
          "data": {
            "application/vnd.plotly.v1+json": {
              "config": {
                "plotlyServerURL": "https://plot.ly"
              },
              "data": [
                {
                  "branchvalues": "total",
                  "customdata": [
                    [
                      3
                    ],
                    [
                      3
                    ],
                    [
                      3
                    ],
                    [
                      3
                    ],
                    [
                      2
                    ],
                    [
                      2
                    ],
                    [
                      4
                    ],
                    [
                      4
                    ],
                    [
                      3
                    ],
                    [
                      3
                    ],
                    [
                      4
                    ],
                    [
                      4
                    ],
                    [
                      4
                    ],
                    [
                      2
                    ],
                    [
                      3
                    ],
                    [
                      2
                    ],
                    [
                      4
                    ],
                    [
                      2
                    ],
                    [
                      3
                    ],
                    [
                      2
                    ]
                  ],
                  "domain": {
                    "x": [
                      0,
                      1
                    ],
                    "y": [
                      0,
                      1
                    ]
                  },
                  "hovertemplate": "labels=%{label}<br>Count_sum=%{value}<br>parent=%{parent}<br>id=%{id}<br>Count=%{color}<extra></extra>",
                  "ids": [
                    "H3K27ac1K36me0",
                    "H3K27ac1K36me1",
                    "H3K27ac1K36me2",
                    "H3K27ac1K36me3",
                    "H3K27me0K36me0",
                    "H3K27me0K36me1",
                    "H3K27me1K36me0",
                    "H3K27me2K36me0",
                    "H3K27me3K36me0",
                    "H3K4me1",
                    "H3K79me0",
                    "H3K79me1",
                    "H3K9ac1K14ac0",
                    "H3K9ac1K14ac1",
                    "H3K9me0K14ac1",
                    "H3K9me1K14ac0",
                    "H3K9me1K14ac1",
                    "H3K9me2K14ac1",
                    "H3K9me3K14ac0",
                    "H3K9me3K14ac1"
                  ],
                  "labels": [
                    "H3K27ac1K36me0",
                    "H3K27ac1K36me1",
                    "H3K27ac1K36me2",
                    "H3K27ac1K36me3",
                    "H3K27me0K36me0",
                    "H3K27me0K36me1",
                    "H3K27me1K36me0",
                    "H3K27me2K36me0",
                    "H3K27me3K36me0",
                    "H3K4me1",
                    "H3K79me0",
                    "H3K79me1",
                    "H3K9ac1K14ac0",
                    "H3K9ac1K14ac1",
                    "H3K9me0K14ac1",
                    "H3K9me1K14ac0",
                    "H3K9me1K14ac1",
                    "H3K9me2K14ac1",
                    "H3K9me3K14ac0",
                    "H3K9me3K14ac1"
                  ],
                  "marker": {
                    "coloraxis": "coloraxis",
                    "colors": [
                      3,
                      3,
                      3,
                      3,
                      2,
                      2,
                      4,
                      4,
                      3,
                      3,
                      4,
                      4,
                      4,
                      2,
                      3,
                      2,
                      4,
                      2,
                      3,
                      2
                    ]
                  },
                  "name": "",
                  "parents": [
                    "",
                    "",
                    "",
                    "",
                    "",
                    "",
                    "",
                    "",
                    "",
                    "",
                    "",
                    "",
                    "",
                    "",
                    "",
                    "",
                    "",
                    "",
                    "",
                    ""
                  ],
                  "type": "treemap",
                  "values": [
                    3,
                    3,
                    3,
                    3,
                    2,
                    2,
                    4,
                    4,
                    3,
                    3,
                    4,
                    4,
                    4,
                    2,
                    3,
                    2,
                    4,
                    2,
                    3,
                    2
                  ]
                }
              ],
              "layout": {
                "coloraxis": {
                  "colorbar": {
                    "title": {
                      "text": "Count"
                    }
                  },
                  "colorscale": [
                    [
                      0,
                      "#0d0887"
                    ],
                    [
                      0.1111111111111111,
                      "#46039f"
                    ],
                    [
                      0.2222222222222222,
                      "#7201a8"
                    ],
                    [
                      0.3333333333333333,
                      "#9c179e"
                    ],
                    [
                      0.4444444444444444,
                      "#bd3786"
                    ],
                    [
                      0.5555555555555556,
                      "#d8576b"
                    ],
                    [
                      0.6666666666666666,
                      "#ed7953"
                    ],
                    [
                      0.7777777777777778,
                      "#fb9f3a"
                    ],
                    [
                      0.8888888888888888,
                      "#fdca26"
                    ],
                    [
                      1,
                      "#f0f921"
                    ]
                  ]
                },
                "legend": {
                  "tracegroupgap": 0
                },
                "margin": {
                  "b": 0,
                  "l": 0,
                  "r": 0,
                  "t": 40
                },
                "template": {
                  "data": {
                    "bar": [
                      {
                        "error_x": {
                          "color": "#2a3f5f"
                        },
                        "error_y": {
                          "color": "#2a3f5f"
                        },
                        "marker": {
                          "line": {
                            "color": "#E5ECF6",
                            "width": 0.5
                          },
                          "pattern": {
                            "fillmode": "overlay",
                            "size": 10,
                            "solidity": 0.2
                          }
                        },
                        "type": "bar"
                      }
                    ],
                    "barpolar": [
                      {
                        "marker": {
                          "line": {
                            "color": "#E5ECF6",
                            "width": 0.5
                          },
                          "pattern": {
                            "fillmode": "overlay",
                            "size": 10,
                            "solidity": 0.2
                          }
                        },
                        "type": "barpolar"
                      }
                    ],
                    "carpet": [
                      {
                        "aaxis": {
                          "endlinecolor": "#2a3f5f",
                          "gridcolor": "white",
                          "linecolor": "white",
                          "minorgridcolor": "white",
                          "startlinecolor": "#2a3f5f"
                        },
                        "baxis": {
                          "endlinecolor": "#2a3f5f",
                          "gridcolor": "white",
                          "linecolor": "white",
                          "minorgridcolor": "white",
                          "startlinecolor": "#2a3f5f"
                        },
                        "type": "carpet"
                      }
                    ],
                    "choropleth": [
                      {
                        "colorbar": {
                          "outlinewidth": 0,
                          "ticks": ""
                        },
                        "type": "choropleth"
                      }
                    ],
                    "contour": [
                      {
                        "colorbar": {
                          "outlinewidth": 0,
                          "ticks": ""
                        },
                        "colorscale": [
                          [
                            0,
                            "#0d0887"
                          ],
                          [
                            0.1111111111111111,
                            "#46039f"
                          ],
                          [
                            0.2222222222222222,
                            "#7201a8"
                          ],
                          [
                            0.3333333333333333,
                            "#9c179e"
                          ],
                          [
                            0.4444444444444444,
                            "#bd3786"
                          ],
                          [
                            0.5555555555555556,
                            "#d8576b"
                          ],
                          [
                            0.6666666666666666,
                            "#ed7953"
                          ],
                          [
                            0.7777777777777778,
                            "#fb9f3a"
                          ],
                          [
                            0.8888888888888888,
                            "#fdca26"
                          ],
                          [
                            1,
                            "#f0f921"
                          ]
                        ],
                        "type": "contour"
                      }
                    ],
                    "contourcarpet": [
                      {
                        "colorbar": {
                          "outlinewidth": 0,
                          "ticks": ""
                        },
                        "type": "contourcarpet"
                      }
                    ],
                    "heatmap": [
                      {
                        "colorbar": {
                          "outlinewidth": 0,
                          "ticks": ""
                        },
                        "colorscale": [
                          [
                            0,
                            "#0d0887"
                          ],
                          [
                            0.1111111111111111,
                            "#46039f"
                          ],
                          [
                            0.2222222222222222,
                            "#7201a8"
                          ],
                          [
                            0.3333333333333333,
                            "#9c179e"
                          ],
                          [
                            0.4444444444444444,
                            "#bd3786"
                          ],
                          [
                            0.5555555555555556,
                            "#d8576b"
                          ],
                          [
                            0.6666666666666666,
                            "#ed7953"
                          ],
                          [
                            0.7777777777777778,
                            "#fb9f3a"
                          ],
                          [
                            0.8888888888888888,
                            "#fdca26"
                          ],
                          [
                            1,
                            "#f0f921"
                          ]
                        ],
                        "type": "heatmap"
                      }
                    ],
                    "heatmapgl": [
                      {
                        "colorbar": {
                          "outlinewidth": 0,
                          "ticks": ""
                        },
                        "colorscale": [
                          [
                            0,
                            "#0d0887"
                          ],
                          [
                            0.1111111111111111,
                            "#46039f"
                          ],
                          [
                            0.2222222222222222,
                            "#7201a8"
                          ],
                          [
                            0.3333333333333333,
                            "#9c179e"
                          ],
                          [
                            0.4444444444444444,
                            "#bd3786"
                          ],
                          [
                            0.5555555555555556,
                            "#d8576b"
                          ],
                          [
                            0.6666666666666666,
                            "#ed7953"
                          ],
                          [
                            0.7777777777777778,
                            "#fb9f3a"
                          ],
                          [
                            0.8888888888888888,
                            "#fdca26"
                          ],
                          [
                            1,
                            "#f0f921"
                          ]
                        ],
                        "type": "heatmapgl"
                      }
                    ],
                    "histogram": [
                      {
                        "marker": {
                          "pattern": {
                            "fillmode": "overlay",
                            "size": 10,
                            "solidity": 0.2
                          }
                        },
                        "type": "histogram"
                      }
                    ],
                    "histogram2d": [
                      {
                        "colorbar": {
                          "outlinewidth": 0,
                          "ticks": ""
                        },
                        "colorscale": [
                          [
                            0,
                            "#0d0887"
                          ],
                          [
                            0.1111111111111111,
                            "#46039f"
                          ],
                          [
                            0.2222222222222222,
                            "#7201a8"
                          ],
                          [
                            0.3333333333333333,
                            "#9c179e"
                          ],
                          [
                            0.4444444444444444,
                            "#bd3786"
                          ],
                          [
                            0.5555555555555556,
                            "#d8576b"
                          ],
                          [
                            0.6666666666666666,
                            "#ed7953"
                          ],
                          [
                            0.7777777777777778,
                            "#fb9f3a"
                          ],
                          [
                            0.8888888888888888,
                            "#fdca26"
                          ],
                          [
                            1,
                            "#f0f921"
                          ]
                        ],
                        "type": "histogram2d"
                      }
                    ],
                    "histogram2dcontour": [
                      {
                        "colorbar": {
                          "outlinewidth": 0,
                          "ticks": ""
                        },
                        "colorscale": [
                          [
                            0,
                            "#0d0887"
                          ],
                          [
                            0.1111111111111111,
                            "#46039f"
                          ],
                          [
                            0.2222222222222222,
                            "#7201a8"
                          ],
                          [
                            0.3333333333333333,
                            "#9c179e"
                          ],
                          [
                            0.4444444444444444,
                            "#bd3786"
                          ],
                          [
                            0.5555555555555556,
                            "#d8576b"
                          ],
                          [
                            0.6666666666666666,
                            "#ed7953"
                          ],
                          [
                            0.7777777777777778,
                            "#fb9f3a"
                          ],
                          [
                            0.8888888888888888,
                            "#fdca26"
                          ],
                          [
                            1,
                            "#f0f921"
                          ]
                        ],
                        "type": "histogram2dcontour"
                      }
                    ],
                    "mesh3d": [
                      {
                        "colorbar": {
                          "outlinewidth": 0,
                          "ticks": ""
                        },
                        "type": "mesh3d"
                      }
                    ],
                    "parcoords": [
                      {
                        "line": {
                          "colorbar": {
                            "outlinewidth": 0,
                            "ticks": ""
                          }
                        },
                        "type": "parcoords"
                      }
                    ],
                    "pie": [
                      {
                        "automargin": true,
                        "type": "pie"
                      }
                    ],
                    "scatter": [
                      {
                        "fillpattern": {
                          "fillmode": "overlay",
                          "size": 10,
                          "solidity": 0.2
                        },
                        "type": "scatter"
                      }
                    ],
                    "scatter3d": [
                      {
                        "line": {
                          "colorbar": {
                            "outlinewidth": 0,
                            "ticks": ""
                          }
                        },
                        "marker": {
                          "colorbar": {
                            "outlinewidth": 0,
                            "ticks": ""
                          }
                        },
                        "type": "scatter3d"
                      }
                    ],
                    "scattercarpet": [
                      {
                        "marker": {
                          "colorbar": {
                            "outlinewidth": 0,
                            "ticks": ""
                          }
                        },
                        "type": "scattercarpet"
                      }
                    ],
                    "scattergeo": [
                      {
                        "marker": {
                          "colorbar": {
                            "outlinewidth": 0,
                            "ticks": ""
                          }
                        },
                        "type": "scattergeo"
                      }
                    ],
                    "scattergl": [
                      {
                        "marker": {
                          "colorbar": {
                            "outlinewidth": 0,
                            "ticks": ""
                          }
                        },
                        "type": "scattergl"
                      }
                    ],
                    "scattermapbox": [
                      {
                        "marker": {
                          "colorbar": {
                            "outlinewidth": 0,
                            "ticks": ""
                          }
                        },
                        "type": "scattermapbox"
                      }
                    ],
                    "scatterpolar": [
                      {
                        "marker": {
                          "colorbar": {
                            "outlinewidth": 0,
                            "ticks": ""
                          }
                        },
                        "type": "scatterpolar"
                      }
                    ],
                    "scatterpolargl": [
                      {
                        "marker": {
                          "colorbar": {
                            "outlinewidth": 0,
                            "ticks": ""
                          }
                        },
                        "type": "scatterpolargl"
                      }
                    ],
                    "scatterternary": [
                      {
                        "marker": {
                          "colorbar": {
                            "outlinewidth": 0,
                            "ticks": ""
                          }
                        },
                        "type": "scatterternary"
                      }
                    ],
                    "surface": [
                      {
                        "colorbar": {
                          "outlinewidth": 0,
                          "ticks": ""
                        },
                        "colorscale": [
                          [
                            0,
                            "#0d0887"
                          ],
                          [
                            0.1111111111111111,
                            "#46039f"
                          ],
                          [
                            0.2222222222222222,
                            "#7201a8"
                          ],
                          [
                            0.3333333333333333,
                            "#9c179e"
                          ],
                          [
                            0.4444444444444444,
                            "#bd3786"
                          ],
                          [
                            0.5555555555555556,
                            "#d8576b"
                          ],
                          [
                            0.6666666666666666,
                            "#ed7953"
                          ],
                          [
                            0.7777777777777778,
                            "#fb9f3a"
                          ],
                          [
                            0.8888888888888888,
                            "#fdca26"
                          ],
                          [
                            1,
                            "#f0f921"
                          ]
                        ],
                        "type": "surface"
                      }
                    ],
                    "table": [
                      {
                        "cells": {
                          "fill": {
                            "color": "#EBF0F8"
                          },
                          "line": {
                            "color": "white"
                          }
                        },
                        "header": {
                          "fill": {
                            "color": "#C8D4E3"
                          },
                          "line": {
                            "color": "white"
                          }
                        },
                        "type": "table"
                      }
                    ]
                  },
                  "layout": {
                    "annotationdefaults": {
                      "arrowcolor": "#2a3f5f",
                      "arrowhead": 0,
                      "arrowwidth": 1
                    },
                    "autotypenumbers": "strict",
                    "coloraxis": {
                      "colorbar": {
                        "outlinewidth": 0,
                        "ticks": ""
                      }
                    },
                    "colorscale": {
                      "diverging": [
                        [
                          0,
                          "#8e0152"
                        ],
                        [
                          0.1,
                          "#c51b7d"
                        ],
                        [
                          0.2,
                          "#de77ae"
                        ],
                        [
                          0.3,
                          "#f1b6da"
                        ],
                        [
                          0.4,
                          "#fde0ef"
                        ],
                        [
                          0.5,
                          "#f7f7f7"
                        ],
                        [
                          0.6,
                          "#e6f5d0"
                        ],
                        [
                          0.7,
                          "#b8e186"
                        ],
                        [
                          0.8,
                          "#7fbc41"
                        ],
                        [
                          0.9,
                          "#4d9221"
                        ],
                        [
                          1,
                          "#276419"
                        ]
                      ],
                      "sequential": [
                        [
                          0,
                          "#0d0887"
                        ],
                        [
                          0.1111111111111111,
                          "#46039f"
                        ],
                        [
                          0.2222222222222222,
                          "#7201a8"
                        ],
                        [
                          0.3333333333333333,
                          "#9c179e"
                        ],
                        [
                          0.4444444444444444,
                          "#bd3786"
                        ],
                        [
                          0.5555555555555556,
                          "#d8576b"
                        ],
                        [
                          0.6666666666666666,
                          "#ed7953"
                        ],
                        [
                          0.7777777777777778,
                          "#fb9f3a"
                        ],
                        [
                          0.8888888888888888,
                          "#fdca26"
                        ],
                        [
                          1,
                          "#f0f921"
                        ]
                      ],
                      "sequentialminus": [
                        [
                          0,
                          "#0d0887"
                        ],
                        [
                          0.1111111111111111,
                          "#46039f"
                        ],
                        [
                          0.2222222222222222,
                          "#7201a8"
                        ],
                        [
                          0.3333333333333333,
                          "#9c179e"
                        ],
                        [
                          0.4444444444444444,
                          "#bd3786"
                        ],
                        [
                          0.5555555555555556,
                          "#d8576b"
                        ],
                        [
                          0.6666666666666666,
                          "#ed7953"
                        ],
                        [
                          0.7777777777777778,
                          "#fb9f3a"
                        ],
                        [
                          0.8888888888888888,
                          "#fdca26"
                        ],
                        [
                          1,
                          "#f0f921"
                        ]
                      ]
                    },
                    "colorway": [
                      "#636efa",
                      "#EF553B",
                      "#00cc96",
                      "#ab63fa",
                      "#FFA15A",
                      "#19d3f3",
                      "#FF6692",
                      "#B6E880",
                      "#FF97FF",
                      "#FECB52"
                    ],
                    "font": {
                      "color": "#2a3f5f"
                    },
                    "geo": {
                      "bgcolor": "white",
                      "lakecolor": "white",
                      "landcolor": "#E5ECF6",
                      "showlakes": true,
                      "showland": true,
                      "subunitcolor": "white"
                    },
                    "hoverlabel": {
                      "align": "left"
                    },
                    "hovermode": "closest",
                    "mapbox": {
                      "style": "light"
                    },
                    "paper_bgcolor": "white",
                    "plot_bgcolor": "#E5ECF6",
                    "polar": {
                      "angularaxis": {
                        "gridcolor": "white",
                        "linecolor": "white",
                        "ticks": ""
                      },
                      "bgcolor": "#E5ECF6",
                      "radialaxis": {
                        "gridcolor": "white",
                        "linecolor": "white",
                        "ticks": ""
                      }
                    },
                    "scene": {
                      "xaxis": {
                        "backgroundcolor": "#E5ECF6",
                        "gridcolor": "white",
                        "gridwidth": 2,
                        "linecolor": "white",
                        "showbackground": true,
                        "ticks": "",
                        "zerolinecolor": "white"
                      },
                      "yaxis": {
                        "backgroundcolor": "#E5ECF6",
                        "gridcolor": "white",
                        "gridwidth": 2,
                        "linecolor": "white",
                        "showbackground": true,
                        "ticks": "",
                        "zerolinecolor": "white"
                      },
                      "zaxis": {
                        "backgroundcolor": "#E5ECF6",
                        "gridcolor": "white",
                        "gridwidth": 2,
                        "linecolor": "white",
                        "showbackground": true,
                        "ticks": "",
                        "zerolinecolor": "white"
                      }
                    },
                    "shapedefaults": {
                      "line": {
                        "color": "#2a3f5f"
                      }
                    },
                    "ternary": {
                      "aaxis": {
                        "gridcolor": "white",
                        "linecolor": "white",
                        "ticks": ""
                      },
                      "baxis": {
                        "gridcolor": "white",
                        "linecolor": "white",
                        "ticks": ""
                      },
                      "bgcolor": "#E5ECF6",
                      "caxis": {
                        "gridcolor": "white",
                        "linecolor": "white",
                        "ticks": ""
                      }
                    },
                    "title": {
                      "x": 0.05
                    },
                    "xaxis": {
                      "automargin": true,
                      "gridcolor": "white",
                      "linecolor": "white",
                      "ticks": "",
                      "title": {
                        "standoff": 15
                      },
                      "zerolinecolor": "white",
                      "zerolinewidth": 2
                    },
                    "yaxis": {
                      "automargin": true,
                      "gridcolor": "white",
                      "linecolor": "white",
                      "ticks": "",
                      "title": {
                        "standoff": 15
                      },
                      "zerolinecolor": "white",
                      "zerolinewidth": 2
                    }
                  }
                },
                "title": {
                  "text": "Top 20 Features of Chromatin Profiling and Their Counts (Treemap)"
                }
              }
            }
          },
          "metadata": {},
          "output_type": "display_data"
        }
      ],
      "source": [
        "import pandas as pd\n",
        "from collections import Counter\n",
        "import plotly.express as px\n",
        "\n",
        "# Find the top 20 features most frequently selected\n",
        "top_features_with_counts_CCLE_chromatin = [(feature, count) for feature, count in Counter(selected_features_CCLE_chromatin).most_common(20)]\n",
        "\n",
        "# Create a DataFrame for the top 20 features and their counts\n",
        "top_features_CCLE_chromatin = pd.DataFrame(top_features_with_counts_CCLE_chromatin, columns=['Feature', 'Count'])\n",
        "\n",
        "# Create a treemap using Plotly Express\n",
        "fig = px.treemap(top_features_CCLE_chromatin, path=['Feature'], values='Count', color='Count')\n",
        "\n",
        "# Customize the appearance of the treemap\n",
        "fig.update_layout(\n",
        "    title='Top 20 Features of Chromatin Profiling and Their Counts (Treemap)',\n",
        "    margin=dict(l=0, r=0, b=0, t=40)\n",
        ")\n",
        "\n",
        "# Show the treemap\n",
        "fig.show()\n"
      ]
    },
    {
      "cell_type": "code",
      "execution_count": null,
      "metadata": {},
      "outputs": [],
      "source": [
        "final_chromatin=CCLE_chromatin_towork[['CELL_LINE'] + top_20_features_CCLE_chromatin]"
      ]
    },
    {
      "cell_type": "code",
      "execution_count": null,
      "metadata": {},
      "outputs": [
        {
          "data": {
            "text/html": [
              "<div>\n",
              "<style scoped>\n",
              "    .dataframe tbody tr th:only-of-type {\n",
              "        vertical-align: middle;\n",
              "    }\n",
              "\n",
              "    .dataframe tbody tr th {\n",
              "        vertical-align: top;\n",
              "    }\n",
              "\n",
              "    .dataframe thead th {\n",
              "        text-align: right;\n",
              "    }\n",
              "</style>\n",
              "<table border=\"1\" class=\"dataframe\">\n",
              "  <thead>\n",
              "    <tr style=\"text-align: right;\">\n",
              "      <th></th>\n",
              "      <th>CELL_LINE</th>\n",
              "      <th>H3K9ac1K14ac0</th>\n",
              "      <th>H3K9me1K14ac1</th>\n",
              "      <th>H3K27me1K36me0</th>\n",
              "      <th>H3K27me2K36me0</th>\n",
              "      <th>H3K79me0</th>\n",
              "      <th>H3K79me1</th>\n",
              "      <th>H3K4me1</th>\n",
              "      <th>H3K9me3K14ac0</th>\n",
              "      <th>H3K9me0K14ac1</th>\n",
              "      <th>...</th>\n",
              "      <th>H3K27ac1K36me0</th>\n",
              "      <th>H3K27ac1K36me1</th>\n",
              "      <th>H3K27ac1K36me2</th>\n",
              "      <th>H3K27ac1K36me3</th>\n",
              "      <th>H3K9me1K14ac0</th>\n",
              "      <th>H3K9me2K14ac1</th>\n",
              "      <th>H3K9me3K14ac1</th>\n",
              "      <th>H3K9ac1K14ac1</th>\n",
              "      <th>H3K27me0K36me0</th>\n",
              "      <th>H3K27me0K36me1</th>\n",
              "    </tr>\n",
              "  </thead>\n",
              "  <tbody>\n",
              "    <tr>\n",
              "      <th>2</th>\n",
              "      <td>NCIH1694</td>\n",
              "      <td>-0.427160</td>\n",
              "      <td>0.906119</td>\n",
              "      <td>-0.849408</td>\n",
              "      <td>-0.417356</td>\n",
              "      <td>0.185984</td>\n",
              "      <td>0.191760</td>\n",
              "      <td>0.29844</td>\n",
              "      <td>-0.220467</td>\n",
              "      <td>0.215504</td>\n",
              "      <td>...</td>\n",
              "      <td>0.055683</td>\n",
              "      <td>-0.659294</td>\n",
              "      <td>0.114288</td>\n",
              "      <td>-1.289012</td>\n",
              "      <td>0.133280</td>\n",
              "      <td>0.923124</td>\n",
              "      <td>0.938963</td>\n",
              "      <td>0.071732</td>\n",
              "      <td>-0.499895</td>\n",
              "      <td>-0.056093</td>\n",
              "    </tr>\n",
              "    <tr>\n",
              "      <th>3</th>\n",
              "      <td>NCIH1694</td>\n",
              "      <td>-0.427160</td>\n",
              "      <td>0.906119</td>\n",
              "      <td>-0.849408</td>\n",
              "      <td>-0.417356</td>\n",
              "      <td>0.185984</td>\n",
              "      <td>0.191760</td>\n",
              "      <td>0.29844</td>\n",
              "      <td>-0.220467</td>\n",
              "      <td>0.215504</td>\n",
              "      <td>...</td>\n",
              "      <td>0.055683</td>\n",
              "      <td>-0.659294</td>\n",
              "      <td>0.114288</td>\n",
              "      <td>-1.289012</td>\n",
              "      <td>0.133280</td>\n",
              "      <td>0.923124</td>\n",
              "      <td>0.938963</td>\n",
              "      <td>0.071732</td>\n",
              "      <td>-0.499895</td>\n",
              "      <td>-0.056093</td>\n",
              "    </tr>\n",
              "    <tr>\n",
              "      <th>4</th>\n",
              "      <td>NCIH1694</td>\n",
              "      <td>-0.427160</td>\n",
              "      <td>0.906119</td>\n",
              "      <td>-0.849408</td>\n",
              "      <td>-0.417356</td>\n",
              "      <td>0.185984</td>\n",
              "      <td>0.191760</td>\n",
              "      <td>0.29844</td>\n",
              "      <td>-0.220467</td>\n",
              "      <td>0.215504</td>\n",
              "      <td>...</td>\n",
              "      <td>0.055683</td>\n",
              "      <td>-0.659294</td>\n",
              "      <td>0.114288</td>\n",
              "      <td>-1.289012</td>\n",
              "      <td>0.133280</td>\n",
              "      <td>0.923124</td>\n",
              "      <td>0.938963</td>\n",
              "      <td>0.071732</td>\n",
              "      <td>-0.499895</td>\n",
              "      <td>-0.056093</td>\n",
              "    </tr>\n",
              "    <tr>\n",
              "      <th>5</th>\n",
              "      <td>NCIH1694</td>\n",
              "      <td>-0.427160</td>\n",
              "      <td>0.906119</td>\n",
              "      <td>-0.849408</td>\n",
              "      <td>-0.417356</td>\n",
              "      <td>0.185984</td>\n",
              "      <td>0.191760</td>\n",
              "      <td>0.29844</td>\n",
              "      <td>-0.220467</td>\n",
              "      <td>0.215504</td>\n",
              "      <td>...</td>\n",
              "      <td>0.055683</td>\n",
              "      <td>-0.659294</td>\n",
              "      <td>0.114288</td>\n",
              "      <td>-1.289012</td>\n",
              "      <td>0.133280</td>\n",
              "      <td>0.923124</td>\n",
              "      <td>0.938963</td>\n",
              "      <td>0.071732</td>\n",
              "      <td>-0.499895</td>\n",
              "      <td>-0.056093</td>\n",
              "    </tr>\n",
              "    <tr>\n",
              "      <th>6</th>\n",
              "      <td>NCIH1694</td>\n",
              "      <td>-0.427160</td>\n",
              "      <td>0.906119</td>\n",
              "      <td>-0.849408</td>\n",
              "      <td>-0.417356</td>\n",
              "      <td>0.185984</td>\n",
              "      <td>0.191760</td>\n",
              "      <td>0.29844</td>\n",
              "      <td>-0.220467</td>\n",
              "      <td>0.215504</td>\n",
              "      <td>...</td>\n",
              "      <td>0.055683</td>\n",
              "      <td>-0.659294</td>\n",
              "      <td>0.114288</td>\n",
              "      <td>-1.289012</td>\n",
              "      <td>0.133280</td>\n",
              "      <td>0.923124</td>\n",
              "      <td>0.938963</td>\n",
              "      <td>0.071732</td>\n",
              "      <td>-0.499895</td>\n",
              "      <td>-0.056093</td>\n",
              "    </tr>\n",
              "    <tr>\n",
              "      <th>...</th>\n",
              "      <td>...</td>\n",
              "      <td>...</td>\n",
              "      <td>...</td>\n",
              "      <td>...</td>\n",
              "      <td>...</td>\n",
              "      <td>...</td>\n",
              "      <td>...</td>\n",
              "      <td>...</td>\n",
              "      <td>...</td>\n",
              "      <td>...</td>\n",
              "      <td>...</td>\n",
              "      <td>...</td>\n",
              "      <td>...</td>\n",
              "      <td>...</td>\n",
              "      <td>...</td>\n",
              "      <td>...</td>\n",
              "      <td>...</td>\n",
              "      <td>...</td>\n",
              "      <td>...</td>\n",
              "      <td>...</td>\n",
              "      <td>...</td>\n",
              "    </tr>\n",
              "    <tr>\n",
              "      <th>5346</th>\n",
              "      <td>OE21</td>\n",
              "      <td>0.004067</td>\n",
              "      <td>0.275364</td>\n",
              "      <td>0.197919</td>\n",
              "      <td>0.374461</td>\n",
              "      <td>0.166375</td>\n",
              "      <td>0.226403</td>\n",
              "      <td>0.07189</td>\n",
              "      <td>-0.837019</td>\n",
              "      <td>0.068991</td>\n",
              "      <td>...</td>\n",
              "      <td>0.682899</td>\n",
              "      <td>-0.204362</td>\n",
              "      <td>0.003462</td>\n",
              "      <td>-0.022484</td>\n",
              "      <td>0.182696</td>\n",
              "      <td>0.346706</td>\n",
              "      <td>0.317147</td>\n",
              "      <td>-0.047163</td>\n",
              "      <td>0.071510</td>\n",
              "      <td>0.330937</td>\n",
              "    </tr>\n",
              "    <tr>\n",
              "      <th>5347</th>\n",
              "      <td>OE21</td>\n",
              "      <td>0.004067</td>\n",
              "      <td>0.275364</td>\n",
              "      <td>0.197919</td>\n",
              "      <td>0.374461</td>\n",
              "      <td>0.166375</td>\n",
              "      <td>0.226403</td>\n",
              "      <td>0.07189</td>\n",
              "      <td>-0.837019</td>\n",
              "      <td>0.068991</td>\n",
              "      <td>...</td>\n",
              "      <td>0.682899</td>\n",
              "      <td>-0.204362</td>\n",
              "      <td>0.003462</td>\n",
              "      <td>-0.022484</td>\n",
              "      <td>0.182696</td>\n",
              "      <td>0.346706</td>\n",
              "      <td>0.317147</td>\n",
              "      <td>-0.047163</td>\n",
              "      <td>0.071510</td>\n",
              "      <td>0.330937</td>\n",
              "    </tr>\n",
              "    <tr>\n",
              "      <th>5348</th>\n",
              "      <td>OE21</td>\n",
              "      <td>0.004067</td>\n",
              "      <td>0.275364</td>\n",
              "      <td>0.197919</td>\n",
              "      <td>0.374461</td>\n",
              "      <td>0.166375</td>\n",
              "      <td>0.226403</td>\n",
              "      <td>0.07189</td>\n",
              "      <td>-0.837019</td>\n",
              "      <td>0.068991</td>\n",
              "      <td>...</td>\n",
              "      <td>0.682899</td>\n",
              "      <td>-0.204362</td>\n",
              "      <td>0.003462</td>\n",
              "      <td>-0.022484</td>\n",
              "      <td>0.182696</td>\n",
              "      <td>0.346706</td>\n",
              "      <td>0.317147</td>\n",
              "      <td>-0.047163</td>\n",
              "      <td>0.071510</td>\n",
              "      <td>0.330937</td>\n",
              "    </tr>\n",
              "    <tr>\n",
              "      <th>5349</th>\n",
              "      <td>OE21</td>\n",
              "      <td>0.004067</td>\n",
              "      <td>0.275364</td>\n",
              "      <td>0.197919</td>\n",
              "      <td>0.374461</td>\n",
              "      <td>0.166375</td>\n",
              "      <td>0.226403</td>\n",
              "      <td>0.07189</td>\n",
              "      <td>-0.837019</td>\n",
              "      <td>0.068991</td>\n",
              "      <td>...</td>\n",
              "      <td>0.682899</td>\n",
              "      <td>-0.204362</td>\n",
              "      <td>0.003462</td>\n",
              "      <td>-0.022484</td>\n",
              "      <td>0.182696</td>\n",
              "      <td>0.346706</td>\n",
              "      <td>0.317147</td>\n",
              "      <td>-0.047163</td>\n",
              "      <td>0.071510</td>\n",
              "      <td>0.330937</td>\n",
              "    </tr>\n",
              "    <tr>\n",
              "      <th>5350</th>\n",
              "      <td>OE21</td>\n",
              "      <td>0.004067</td>\n",
              "      <td>0.275364</td>\n",
              "      <td>0.197919</td>\n",
              "      <td>0.374461</td>\n",
              "      <td>0.166375</td>\n",
              "      <td>0.226403</td>\n",
              "      <td>0.07189</td>\n",
              "      <td>-0.837019</td>\n",
              "      <td>0.068991</td>\n",
              "      <td>...</td>\n",
              "      <td>0.682899</td>\n",
              "      <td>-0.204362</td>\n",
              "      <td>0.003462</td>\n",
              "      <td>-0.022484</td>\n",
              "      <td>0.182696</td>\n",
              "      <td>0.346706</td>\n",
              "      <td>0.317147</td>\n",
              "      <td>-0.047163</td>\n",
              "      <td>0.071510</td>\n",
              "      <td>0.330937</td>\n",
              "    </tr>\n",
              "  </tbody>\n",
              "</table>\n",
              "<p>4788 rows × 21 columns</p>\n",
              "</div>"
            ],
            "text/plain": [
              "     CELL_LINE  H3K9ac1K14ac0  H3K9me1K14ac1  H3K27me1K36me0  H3K27me2K36me0  \\\n",
              "2     NCIH1694      -0.427160       0.906119       -0.849408       -0.417356   \n",
              "3     NCIH1694      -0.427160       0.906119       -0.849408       -0.417356   \n",
              "4     NCIH1694      -0.427160       0.906119       -0.849408       -0.417356   \n",
              "5     NCIH1694      -0.427160       0.906119       -0.849408       -0.417356   \n",
              "6     NCIH1694      -0.427160       0.906119       -0.849408       -0.417356   \n",
              "...        ...            ...            ...             ...             ...   \n",
              "5346      OE21       0.004067       0.275364        0.197919        0.374461   \n",
              "5347      OE21       0.004067       0.275364        0.197919        0.374461   \n",
              "5348      OE21       0.004067       0.275364        0.197919        0.374461   \n",
              "5349      OE21       0.004067       0.275364        0.197919        0.374461   \n",
              "5350      OE21       0.004067       0.275364        0.197919        0.374461   \n",
              "\n",
              "      H3K79me0  H3K79me1  H3K4me1  H3K9me3K14ac0  H3K9me0K14ac1  ...  \\\n",
              "2     0.185984  0.191760  0.29844      -0.220467       0.215504  ...   \n",
              "3     0.185984  0.191760  0.29844      -0.220467       0.215504  ...   \n",
              "4     0.185984  0.191760  0.29844      -0.220467       0.215504  ...   \n",
              "5     0.185984  0.191760  0.29844      -0.220467       0.215504  ...   \n",
              "6     0.185984  0.191760  0.29844      -0.220467       0.215504  ...   \n",
              "...        ...       ...      ...            ...            ...  ...   \n",
              "5346  0.166375  0.226403  0.07189      -0.837019       0.068991  ...   \n",
              "5347  0.166375  0.226403  0.07189      -0.837019       0.068991  ...   \n",
              "5348  0.166375  0.226403  0.07189      -0.837019       0.068991  ...   \n",
              "5349  0.166375  0.226403  0.07189      -0.837019       0.068991  ...   \n",
              "5350  0.166375  0.226403  0.07189      -0.837019       0.068991  ...   \n",
              "\n",
              "      H3K27ac1K36me0  H3K27ac1K36me1  H3K27ac1K36me2  H3K27ac1K36me3  \\\n",
              "2           0.055683       -0.659294        0.114288       -1.289012   \n",
              "3           0.055683       -0.659294        0.114288       -1.289012   \n",
              "4           0.055683       -0.659294        0.114288       -1.289012   \n",
              "5           0.055683       -0.659294        0.114288       -1.289012   \n",
              "6           0.055683       -0.659294        0.114288       -1.289012   \n",
              "...              ...             ...             ...             ...   \n",
              "5346        0.682899       -0.204362        0.003462       -0.022484   \n",
              "5347        0.682899       -0.204362        0.003462       -0.022484   \n",
              "5348        0.682899       -0.204362        0.003462       -0.022484   \n",
              "5349        0.682899       -0.204362        0.003462       -0.022484   \n",
              "5350        0.682899       -0.204362        0.003462       -0.022484   \n",
              "\n",
              "      H3K9me1K14ac0  H3K9me2K14ac1  H3K9me3K14ac1  H3K9ac1K14ac1  \\\n",
              "2          0.133280       0.923124       0.938963       0.071732   \n",
              "3          0.133280       0.923124       0.938963       0.071732   \n",
              "4          0.133280       0.923124       0.938963       0.071732   \n",
              "5          0.133280       0.923124       0.938963       0.071732   \n",
              "6          0.133280       0.923124       0.938963       0.071732   \n",
              "...             ...            ...            ...            ...   \n",
              "5346       0.182696       0.346706       0.317147      -0.047163   \n",
              "5347       0.182696       0.346706       0.317147      -0.047163   \n",
              "5348       0.182696       0.346706       0.317147      -0.047163   \n",
              "5349       0.182696       0.346706       0.317147      -0.047163   \n",
              "5350       0.182696       0.346706       0.317147      -0.047163   \n",
              "\n",
              "      H3K27me0K36me0  H3K27me0K36me1  \n",
              "2          -0.499895       -0.056093  \n",
              "3          -0.499895       -0.056093  \n",
              "4          -0.499895       -0.056093  \n",
              "5          -0.499895       -0.056093  \n",
              "6          -0.499895       -0.056093  \n",
              "...              ...             ...  \n",
              "5346        0.071510        0.330937  \n",
              "5347        0.071510        0.330937  \n",
              "5348        0.071510        0.330937  \n",
              "5349        0.071510        0.330937  \n",
              "5350        0.071510        0.330937  \n",
              "\n",
              "[4788 rows x 21 columns]"
            ]
          },
          "execution_count": 172,
          "metadata": {},
          "output_type": "execute_result"
        }
      ],
      "source": [
        "final_chromatin"
      ]
    },
    {
      "cell_type": "markdown",
      "metadata": {
        "id": "L9KLdLDNnvbl"
      },
      "source": [
        "Reverse Phase Protein Array"
      ]
    },
    {
      "cell_type": "code",
      "execution_count": null,
      "metadata": {
        "id": "gF4u10J9nwNk"
      },
      "outputs": [],
      "source": [
        "CCLE_RPPA=pd.read_csv('CCLE_RPPA.csv')"
      ]
    },
    {
      "cell_type": "code",
      "execution_count": null,
      "metadata": {},
      "outputs": [
        {
          "data": {
            "text/plain": [
              "(4775, 222)"
            ]
          },
          "execution_count": 94,
          "metadata": {},
          "output_type": "execute_result"
        }
      ],
      "source": [
        "CCLE_RPPA.shape"
      ]
    },
    {
      "cell_type": "code",
      "execution_count": null,
      "metadata": {
        "id": "209Y8TvypSXb"
      },
      "outputs": [],
      "source": [
        "CCLE_RPPA= CCLE_RPPA.dropna(subset=['DRUG_NAME', 'IC50', 'AUC', 'Cluster', 'IC50_Class'])"
      ]
    },
    {
      "cell_type": "code",
      "execution_count": null,
      "metadata": {
        "id": "eBhfQpxHpBRY"
      },
      "outputs": [],
      "source": [
        "CCLE_RPPA.isna().sum()"
      ]
    },
    {
      "cell_type": "code",
      "execution_count": null,
      "metadata": {
        "colab": {
          "base_uri": "https://localhost:8080/"
        },
        "id": "Zdq2JUUpprZr",
        "outputId": "c9dc8e07-3d5d-4785-a3c2-6fe8ee26b1d1"
      },
      "outputs": [
        {
          "data": {
            "text/plain": [
              "Index(['CellLineName', 'CELL_LINE', 'CELL_LINE_NAME', '14-3-3_beta',\n",
              "       '14-3-3_epsilon_Caution', '14-3-3_zeta', '4E-BP1', '4E-BP1_pS65',\n",
              "       '4E-BP1_pT37_T46', '4E-BP1_pT70',\n",
              "       ...\n",
              "       'XRCC1_Caution', 'YAP_Caution', 'YAP_pS127_Caution', 'YB-1',\n",
              "       'YB-1_pS102', 'DRUG_NAME', 'IC50', 'AUC', 'Cluster', 'IC50_Class'],\n",
              "      dtype='object', length=222)"
            ]
          },
          "execution_count": 6,
          "metadata": {},
          "output_type": "execute_result"
        }
      ],
      "source": [
        "CCLE_RPPA.columns"
      ]
    },
    {
      "cell_type": "code",
      "execution_count": null,
      "metadata": {
        "id": "CLFYrEFMqRHJ"
      },
      "outputs": [],
      "source": [
        "selected1=['CellLineName', 'CELL_LINE_NAME','DRUG_NAME', 'IC50', 'AUC','IC50_Class']"
      ]
    },
    {
      "cell_type": "code",
      "execution_count": null,
      "metadata": {
        "id": "lEWOmo6OpoPT"
      },
      "outputs": [],
      "source": [
        "CCLE_RPPA_toWork = CCLE_RPPA.drop(selected1,axis=1)"
      ]
    },
    {
      "cell_type": "code",
      "execution_count": null,
      "metadata": {
        "id": "i0FttimoqmbJ"
      },
      "outputs": [
        {
          "data": {
            "text/plain": [
              "Index(['CELL_LINE', '14-3-3_beta', '14-3-3_epsilon_Caution', '14-3-3_zeta',\n",
              "       '4E-BP1', '4E-BP1_pS65', '4E-BP1_pT37_T46', '4E-BP1_pT70', '53BP1',\n",
              "       'A-Raf_pS299_Caution',\n",
              "       ...\n",
              "       'VAV1_Caution', 'VEGFR2', 'VHL_Caution', 'XBP1_Caution',\n",
              "       'XRCC1_Caution', 'YAP_Caution', 'YAP_pS127_Caution', 'YB-1',\n",
              "       'YB-1_pS102', 'Cluster'],\n",
              "      dtype='object', length=216)"
            ]
          },
          "execution_count": 129,
          "metadata": {},
          "output_type": "execute_result"
        }
      ],
      "source": [
        "CCLE_RPPA_toWork.columns"
      ]
    },
    {
      "cell_type": "code",
      "execution_count": null,
      "metadata": {
        "colab": {
          "base_uri": "https://localhost:8080/",
          "height": 390
        },
        "id": "XmSrggSTquge",
        "outputId": "c26be38b-3265-437b-dbc7-02d2bd7ca674"
      },
      "outputs": [],
      "source": [
        "import pandas as pd\n",
        "from sklearn.feature_selection import SelectKBest, mutual_info_classif, RFE, SelectFromModel\n",
        "from sklearn.ensemble import RandomForestClassifier\n",
        "from sklearn.linear_model import Lasso\n",
        "from sklearn.preprocessing import MinMaxScaler\n",
        "from sklearn.feature_selection import chi2\n",
        "from collections import Counter\n",
        "\n",
        "# Define a simple RFA (Recursive Feature Addition) method\n",
        "def custom_rfa_method(X, y, n_features_to_select):\n",
        "    selected_features = set()\n",
        "    while len(selected_features) < n_features_to_select:\n",
        "        best_feature = None\n",
        "        best_score = -1  # Initialize with a low score\n",
        "        for feature in X.columns:\n",
        "            if feature not in selected_features:\n",
        "                # Calculate the mutual information score (you can replace it with your custom scoring method)\n",
        "                X_selected = X[list(selected_features) + [feature]]\n",
        "                score = mutual_info_classif(X_selected, y)[0]\n",
        "                if score > best_score:\n",
        "                    best_score = score\n",
        "                    best_feature = feature\n",
        "        selected_features.add(best_feature)\n",
        "    return list(selected_features)\n",
        "\n",
        "# Define the feature selection methods\n",
        "methods = [\n",
        "    ('Mutual Information', SelectKBest(mutual_info_classif, k=20)),\n",
        "    ('Random Forest', SelectKBest(lambda X, y: RandomForestClassifier(n_estimators=100).fit(X, y).feature_importances_, k=20)),\n",
        "    ('Chi-squared', SelectKBest(chi2, k=20)),\n",
        "    ('RFE', RFE(estimator=RandomForestClassifier(n_estimators=100), n_features_to_select=20)),\n",
        "    ('LASSO', SelectFromModel(Lasso(alpha=0.01))),\n",
        "    # Add more methods as needed\n",
        "]\n",
        "\n",
        "# Initialize a dictionary to keep track of feature selections\n",
        "selected_features_RPPA = {feature: 0 for feature in CCLE_RPPA_toWork.columns}\n",
        "\n",
        "# Define X and y outside the loop\n",
        "X = CCLE_RPPA_toWork.drop('Cluster', axis=1)  # Features\n",
        "# Apply Min-Max scaling to make all values non-negative\n",
        "scaler = MinMaxScaler()\n",
        "X = scaler.fit_transform(X)\n",
        "y = CCLE_RPPA_toWork['Cluster']  # Target\n",
        "\n",
        "# Apply feature selection methods\n",
        "for method_name, method in methods:\n",
        "    # Fit the feature selection method\n",
        "    method.fit(X, y)\n",
        "\n",
        "    # Update the selected_features dictionary based on the selected features\n",
        "    selected_indices_RPPA = method.get_support(indices=True)\n",
        "    for feature_idx in selected_indices_RPPA:\n",
        "        selected_features_RPPA[CCLE_RPPA_toWork.columns[feature_idx]] += 1\n",
        "\n",
        "# Find the top 20 features most frequently selected\n",
        "top_20_features_RPPA = [feature for feature, count in Counter(selected_features_RPPA).most_common(20)]\n",
        "\n",
        "# Create a new DataFrame with the top 20 features\n",
        "top20_ccle_RPPA = CCLE_RPPA_toWork[top_20_features_RPPA + ['Cluster']]\n"
      ]
    },
    {
      "cell_type": "code",
      "execution_count": null,
      "metadata": {
        "colab": {
          "base_uri": "https://localhost:8080/",
          "height": 564
        },
        "id": "YQIso23IrgRL",
        "outputId": "400fab2b-6f79-40d8-d435-dd0712d31865"
      },
      "outputs": [
        {
          "data": {
            "image/png": "[encoded data removed]",
            "text/plain": [
              "<Figure size 1200x600 with 1 Axes>"
            ]
          },
          "metadata": {},
          "output_type": "display_data"
        }
      ],
      "source": [
        "from collections import Counter\n",
        "import matplotlib.pyplot as plt\n",
        "import numpy as np\n",
        "\n",
        "# Find the top 20 features most frequently selected\n",
        "top_features_RPPA_with_counts = [(feature, count) for feature, count in Counter(selected_features_RPPA).most_common(20)]\n",
        "\n",
        "# Extract the top 20 features and their counts into separate lists\n",
        "top_20_features_RPPA = [feature for feature, count in top_features_RPPA_with_counts]\n",
        "top_20_counts_RPPA = [count for feature, count in top_features_RPPA_with_counts]\n",
        "\n",
        "# Define a single color shade that decreases for each feature\n",
        "base_color = '#1f77b4'  # Base color\n",
        "\n",
        "# Create a figure and axis\n",
        "fig, ax = plt.subplots(figsize=(12, 6))\n",
        "\n",
        "# Create a range of colors with decreasing brightness\n",
        "colors = [base_color if i == 0 else plt.cm.viridis(i / 20) for i in range(20)]\n",
        "\n",
        "# Create a colorful bar chart with decreasing color shade\n",
        "bars = ax.barh(top_20_features_RPPA, top_20_counts_RPPA, color=colors)\n",
        "plt.xlabel('Counts')\n",
        "plt.title('Top 20 Features of RPPA data and Their Counts')\n",
        "plt.gca().invert_yaxis()\n",
        "\n",
        "# Display the chart\n",
        "plt.show()\n"
      ]
    },
    {
      "cell_type": "code",
      "execution_count": null,
      "metadata": {
        "colab": {
          "base_uri": "https://localhost:8080/",
          "height": 542
        },
        "id": "Xmubm7ISv2YN",
        "outputId": "8c2e79b7-5c4a-4edc-99f9-a521c03fa8cc"
      },
      "outputs": [
        {
          "data": {
            "application/vnd.plotly.v1+json": {
              "config": {
                "plotlyServerURL": "https://plot.ly"
              },
              "data": [
                {
                  "branchvalues": "total",
                  "customdata": [
                    [
                      1
                    ],
                    [
                      1
                    ],
                    [
                      1
                    ],
                    [
                      1
                    ],
                    [
                      1
                    ],
                    [
                      4
                    ],
                    [
                      2
                    ],
                    [
                      2
                    ],
                    [
                      3
                    ],
                    [
                      2
                    ],
                    [
                      4
                    ],
                    [
                      2
                    ],
                    [
                      3
                    ],
                    [
                      3
                    ],
                    [
                      3
                    ],
                    [
                      4
                    ],
                    [
                      1
                    ],
                    [
                      2
                    ],
                    [
                      2
                    ],
                    [
                      2
                    ]
                  ],
                  "domain": {
                    "x": [
                      0,
                      1
                    ],
                    "y": [
                      0,
                      1
                    ]
                  },
                  "hovertemplate": "labels=%{label}<br>Count_sum=%{value}<br>parent=%{parent}<br>id=%{id}<br>Count=%{color}<extra></extra>",
                  "ids": [
                    "4E-BP1_pS65",
                    "ACC1_Caution",
                    "AMPK_alpha_Caution",
                    "Acetyl-a-Tubulin (Lys40)_Caution",
                    "Akt",
                    "Akt_pS473",
                    "Akt_pT308",
                    "Beclin_Caution",
                    "MAPK_pT202_Y204",
                    "N-Cadherin",
                    "PEA15",
                    "RAD51",
                    "Shc_pY317",
                    "Src_pY416_Caution",
                    "Syk",
                    "VAV1_Caution",
                    "alpha-Catenin",
                    "mTOR_pS2448_Caution",
                    "p38_MAPK",
                    "p38_pT180_Y182"
                  ],
                  "labels": [
                    "4E-BP1_pS65",
                    "ACC1_Caution",
                    "AMPK_alpha_Caution",
                    "Acetyl-a-Tubulin (Lys40)_Caution",
                    "Akt",
                    "Akt_pS473",
                    "Akt_pT308",
                    "Beclin_Caution",
                    "MAPK_pT202_Y204",
                    "N-Cadherin",
                    "PEA15",
                    "RAD51",
                    "Shc_pY317",
                    "Src_pY416_Caution",
                    "Syk",
                    "VAV1_Caution",
                    "alpha-Catenin",
                    "mTOR_pS2448_Caution",
                    "p38_MAPK",
                    "p38_pT180_Y182"
                  ],
                  "marker": {
                    "coloraxis": "coloraxis",
                    "colors": [
                      1,
                      1,
                      1,
                      1,
                      1,
                      4,
                      2,
                      2,
                      3,
                      2,
                      4,
                      2,
                      3,
                      3,
                      3,
                      4,
                      1,
                      2,
                      2,
                      2
                    ]
                  },
                  "name": "",
                  "parents": [
                    "",
                    "",
                    "",
                    "",
                    "",
                    "",
                    "",
                    "",
                    "",
                    "",
                    "",
                    "",
                    "",
                    "",
                    "",
                    "",
                    "",
                    "",
                    "",
                    ""
                  ],
                  "type": "treemap",
                  "values": [
                    1,
                    1,
                    1,
                    1,
                    1,
                    4,
                    2,
                    2,
                    3,
                    2,
                    4,
                    2,
                    3,
                    3,
                    3,
                    4,
                    1,
                    2,
                    2,
                    2
                  ]
                }
              ],
              "layout": {
                "coloraxis": {
                  "colorbar": {
                    "title": {
                      "text": "Count"
                    }
                  },
                  "colorscale": [
                    [
                      0,
                      "#0d0887"
                    ],
                    [
                      0.1111111111111111,
                      "#46039f"
                    ],
                    [
                      0.2222222222222222,
                      "#7201a8"
                    ],
                    [
                      0.3333333333333333,
                      "#9c179e"
                    ],
                    [
                      0.4444444444444444,
                      "#bd3786"
                    ],
                    [
                      0.5555555555555556,
                      "#d8576b"
                    ],
                    [
                      0.6666666666666666,
                      "#ed7953"
                    ],
                    [
                      0.7777777777777778,
                      "#fb9f3a"
                    ],
                    [
                      0.8888888888888888,
                      "#fdca26"
                    ],
                    [
                      1,
                      "#f0f921"
                    ]
                  ]
                },
                "legend": {
                  "tracegroupgap": 0
                },
                "margin": {
                  "b": 0,
                  "l": 0,
                  "r": 0,
                  "t": 40
                },
                "template": {
                  "data": {
                    "bar": [
                      {
                        "error_x": {
                          "color": "#2a3f5f"
                        },
                        "error_y": {
                          "color": "#2a3f5f"
                        },
                        "marker": {
                          "line": {
                            "color": "#E5ECF6",
                            "width": 0.5
                          },
                          "pattern": {
                            "fillmode": "overlay",
                            "size": 10,
                            "solidity": 0.2
                          }
                        },
                        "type": "bar"
                      }
                    ],
                    "barpolar": [
                      {
                        "marker": {
                          "line": {
                            "color": "#E5ECF6",
                            "width": 0.5
                          },
                          "pattern": {
                            "fillmode": "overlay",
                            "size": 10,
                            "solidity": 0.2
                          }
                        },
                        "type": "barpolar"
                      }
                    ],
                    "carpet": [
                      {
                        "aaxis": {
                          "endlinecolor": "#2a3f5f",
                          "gridcolor": "white",
                          "linecolor": "white",
                          "minorgridcolor": "white",
                          "startlinecolor": "#2a3f5f"
                        },
                        "baxis": {
                          "endlinecolor": "#2a3f5f",
                          "gridcolor": "white",
                          "linecolor": "white",
                          "minorgridcolor": "white",
                          "startlinecolor": "#2a3f5f"
                        },
                        "type": "carpet"
                      }
                    ],
                    "choropleth": [
                      {
                        "colorbar": {
                          "outlinewidth": 0,
                          "ticks": ""
                        },
                        "type": "choropleth"
                      }
                    ],
                    "contour": [
                      {
                        "colorbar": {
                          "outlinewidth": 0,
                          "ticks": ""
                        },
                        "colorscale": [
                          [
                            0,
                            "#0d0887"
                          ],
                          [
                            0.1111111111111111,
                            "#46039f"
                          ],
                          [
                            0.2222222222222222,
                            "#7201a8"
                          ],
                          [
                            0.3333333333333333,
                            "#9c179e"
                          ],
                          [
                            0.4444444444444444,
                            "#bd3786"
                          ],
                          [
                            0.5555555555555556,
                            "#d8576b"
                          ],
                          [
                            0.6666666666666666,
                            "#ed7953"
                          ],
                          [
                            0.7777777777777778,
                            "#fb9f3a"
                          ],
                          [
                            0.8888888888888888,
                            "#fdca26"
                          ],
                          [
                            1,
                            "#f0f921"
                          ]
                        ],
                        "type": "contour"
                      }
                    ],
                    "contourcarpet": [
                      {
                        "colorbar": {
                          "outlinewidth": 0,
                          "ticks": ""
                        },
                        "type": "contourcarpet"
                      }
                    ],
                    "heatmap": [
                      {
                        "colorbar": {
                          "outlinewidth": 0,
                          "ticks": ""
                        },
                        "colorscale": [
                          [
                            0,
                            "#0d0887"
                          ],
                          [
                            0.1111111111111111,
                            "#46039f"
                          ],
                          [
                            0.2222222222222222,
                            "#7201a8"
                          ],
                          [
                            0.3333333333333333,
                            "#9c179e"
                          ],
                          [
                            0.4444444444444444,
                            "#bd3786"
                          ],
                          [
                            0.5555555555555556,
                            "#d8576b"
                          ],
                          [
                            0.6666666666666666,
                            "#ed7953"
                          ],
                          [
                            0.7777777777777778,
                            "#fb9f3a"
                          ],
                          [
                            0.8888888888888888,
                            "#fdca26"
                          ],
                          [
                            1,
                            "#f0f921"
                          ]
                        ],
                        "type": "heatmap"
                      }
                    ],
                    "heatmapgl": [
                      {
                        "colorbar": {
                          "outlinewidth": 0,
                          "ticks": ""
                        },
                        "colorscale": [
                          [
                            0,
                            "#0d0887"
                          ],
                          [
                            0.1111111111111111,
                            "#46039f"
                          ],
                          [
                            0.2222222222222222,
                            "#7201a8"
                          ],
                          [
                            0.3333333333333333,
                            "#9c179e"
                          ],
                          [
                            0.4444444444444444,
                            "#bd3786"
                          ],
                          [
                            0.5555555555555556,
                            "#d8576b"
                          ],
                          [
                            0.6666666666666666,
                            "#ed7953"
                          ],
                          [
                            0.7777777777777778,
                            "#fb9f3a"
                          ],
                          [
                            0.8888888888888888,
                            "#fdca26"
                          ],
                          [
                            1,
                            "#f0f921"
                          ]
                        ],
                        "type": "heatmapgl"
                      }
                    ],
                    "histogram": [
                      {
                        "marker": {
                          "pattern": {
                            "fillmode": "overlay",
                            "size": 10,
                            "solidity": 0.2
                          }
                        },
                        "type": "histogram"
                      }
                    ],
                    "histogram2d": [
                      {
                        "colorbar": {
                          "outlinewidth": 0,
                          "ticks": ""
                        },
                        "colorscale": [
                          [
                            0,
                            "#0d0887"
                          ],
                          [
                            0.1111111111111111,
                            "#46039f"
                          ],
                          [
                            0.2222222222222222,
                            "#7201a8"
                          ],
                          [
                            0.3333333333333333,
                            "#9c179e"
                          ],
                          [
                            0.4444444444444444,
                            "#bd3786"
                          ],
                          [
                            0.5555555555555556,
                            "#d8576b"
                          ],
                          [
                            0.6666666666666666,
                            "#ed7953"
                          ],
                          [
                            0.7777777777777778,
                            "#fb9f3a"
                          ],
                          [
                            0.8888888888888888,
                            "#fdca26"
                          ],
                          [
                            1,
                            "#f0f921"
                          ]
                        ],
                        "type": "histogram2d"
                      }
                    ],
                    "histogram2dcontour": [
                      {
                        "colorbar": {
                          "outlinewidth": 0,
                          "ticks": ""
                        },
                        "colorscale": [
                          [
                            0,
                            "#0d0887"
                          ],
                          [
                            0.1111111111111111,
                            "#46039f"
                          ],
                          [
                            0.2222222222222222,
                            "#7201a8"
                          ],
                          [
                            0.3333333333333333,
                            "#9c179e"
                          ],
                          [
                            0.4444444444444444,
                            "#bd3786"
                          ],
                          [
                            0.5555555555555556,
                            "#d8576b"
                          ],
                          [
                            0.6666666666666666,
                            "#ed7953"
                          ],
                          [
                            0.7777777777777778,
                            "#fb9f3a"
                          ],
                          [
                            0.8888888888888888,
                            "#fdca26"
                          ],
                          [
                            1,
                            "#f0f921"
                          ]
                        ],
                        "type": "histogram2dcontour"
                      }
                    ],
                    "mesh3d": [
                      {
                        "colorbar": {
                          "outlinewidth": 0,
                          "ticks": ""
                        },
                        "type": "mesh3d"
                      }
                    ],
                    "parcoords": [
                      {
                        "line": {
                          "colorbar": {
                            "outlinewidth": 0,
                            "ticks": ""
                          }
                        },
                        "type": "parcoords"
                      }
                    ],
                    "pie": [
                      {
                        "automargin": true,
                        "type": "pie"
                      }
                    ],
                    "scatter": [
                      {
                        "fillpattern": {
                          "fillmode": "overlay",
                          "size": 10,
                          "solidity": 0.2
                        },
                        "type": "scatter"
                      }
                    ],
                    "scatter3d": [
                      {
                        "line": {
                          "colorbar": {
                            "outlinewidth": 0,
                            "ticks": ""
                          }
                        },
                        "marker": {
                          "colorbar": {
                            "outlinewidth": 0,
                            "ticks": ""
                          }
                        },
                        "type": "scatter3d"
                      }
                    ],
                    "scattercarpet": [
                      {
                        "marker": {
                          "colorbar": {
                            "outlinewidth": 0,
                            "ticks": ""
                          }
                        },
                        "type": "scattercarpet"
                      }
                    ],
                    "scattergeo": [
                      {
                        "marker": {
                          "colorbar": {
                            "outlinewidth": 0,
                            "ticks": ""
                          }
                        },
                        "type": "scattergeo"
                      }
                    ],
                    "scattergl": [
                      {
                        "marker": {
                          "colorbar": {
                            "outlinewidth": 0,
                            "ticks": ""
                          }
                        },
                        "type": "scattergl"
                      }
                    ],
                    "scattermapbox": [
                      {
                        "marker": {
                          "colorbar": {
                            "outlinewidth": 0,
                            "ticks": ""
                          }
                        },
                        "type": "scattermapbox"
                      }
                    ],
                    "scatterpolar": [
                      {
                        "marker": {
                          "colorbar": {
                            "outlinewidth": 0,
                            "ticks": ""
                          }
                        },
                        "type": "scatterpolar"
                      }
                    ],
                    "scatterpolargl": [
                      {
                        "marker": {
                          "colorbar": {
                            "outlinewidth": 0,
                            "ticks": ""
                          }
                        },
                        "type": "scatterpolargl"
                      }
                    ],
                    "scatterternary": [
                      {
                        "marker": {
                          "colorbar": {
                            "outlinewidth": 0,
                            "ticks": ""
                          }
                        },
                        "type": "scatterternary"
                      }
                    ],
                    "surface": [
                      {
                        "colorbar": {
                          "outlinewidth": 0,
                          "ticks": ""
                        },
                        "colorscale": [
                          [
                            0,
                            "#0d0887"
                          ],
                          [
                            0.1111111111111111,
                            "#46039f"
                          ],
                          [
                            0.2222222222222222,
                            "#7201a8"
                          ],
                          [
                            0.3333333333333333,
                            "#9c179e"
                          ],
                          [
                            0.4444444444444444,
                            "#bd3786"
                          ],
                          [
                            0.5555555555555556,
                            "#d8576b"
                          ],
                          [
                            0.6666666666666666,
                            "#ed7953"
                          ],
                          [
                            0.7777777777777778,
                            "#fb9f3a"
                          ],
                          [
                            0.8888888888888888,
                            "#fdca26"
                          ],
                          [
                            1,
                            "#f0f921"
                          ]
                        ],
                        "type": "surface"
                      }
                    ],
                    "table": [
                      {
                        "cells": {
                          "fill": {
                            "color": "#EBF0F8"
                          },
                          "line": {
                            "color": "white"
                          }
                        },
                        "header": {
                          "fill": {
                            "color": "#C8D4E3"
                          },
                          "line": {
                            "color": "white"
                          }
                        },
                        "type": "table"
                      }
                    ]
                  },
                  "layout": {
                    "annotationdefaults": {
                      "arrowcolor": "#2a3f5f",
                      "arrowhead": 0,
                      "arrowwidth": 1
                    },
                    "autotypenumbers": "strict",
                    "coloraxis": {
                      "colorbar": {
                        "outlinewidth": 0,
                        "ticks": ""
                      }
                    },
                    "colorscale": {
                      "diverging": [
                        [
                          0,
                          "#8e0152"
                        ],
                        [
                          0.1,
                          "#c51b7d"
                        ],
                        [
                          0.2,
                          "#de77ae"
                        ],
                        [
                          0.3,
                          "#f1b6da"
                        ],
                        [
                          0.4,
                          "#fde0ef"
                        ],
                        [
                          0.5,
                          "#f7f7f7"
                        ],
                        [
                          0.6,
                          "#e6f5d0"
                        ],
                        [
                          0.7,
                          "#b8e186"
                        ],
                        [
                          0.8,
                          "#7fbc41"
                        ],
                        [
                          0.9,
                          "#4d9221"
                        ],
                        [
                          1,
                          "#276419"
                        ]
                      ],
                      "sequential": [
                        [
                          0,
                          "#0d0887"
                        ],
                        [
                          0.1111111111111111,
                          "#46039f"
                        ],
                        [
                          0.2222222222222222,
                          "#7201a8"
                        ],
                        [
                          0.3333333333333333,
                          "#9c179e"
                        ],
                        [
                          0.4444444444444444,
                          "#bd3786"
                        ],
                        [
                          0.5555555555555556,
                          "#d8576b"
                        ],
                        [
                          0.6666666666666666,
                          "#ed7953"
                        ],
                        [
                          0.7777777777777778,
                          "#fb9f3a"
                        ],
                        [
                          0.8888888888888888,
                          "#fdca26"
                        ],
                        [
                          1,
                          "#f0f921"
                        ]
                      ],
                      "sequentialminus": [
                        [
                          0,
                          "#0d0887"
                        ],
                        [
                          0.1111111111111111,
                          "#46039f"
                        ],
                        [
                          0.2222222222222222,
                          "#7201a8"
                        ],
                        [
                          0.3333333333333333,
                          "#9c179e"
                        ],
                        [
                          0.4444444444444444,
                          "#bd3786"
                        ],
                        [
                          0.5555555555555556,
                          "#d8576b"
                        ],
                        [
                          0.6666666666666666,
                          "#ed7953"
                        ],
                        [
                          0.7777777777777778,
                          "#fb9f3a"
                        ],
                        [
                          0.8888888888888888,
                          "#fdca26"
                        ],
                        [
                          1,
                          "#f0f921"
                        ]
                      ]
                    },
                    "colorway": [
                      "#636efa",
                      "#EF553B",
                      "#00cc96",
                      "#ab63fa",
                      "#FFA15A",
                      "#19d3f3",
                      "#FF6692",
                      "#B6E880",
                      "#FF97FF",
                      "#FECB52"
                    ],
                    "font": {
                      "color": "#2a3f5f"
                    },
                    "geo": {
                      "bgcolor": "white",
                      "lakecolor": "white",
                      "landcolor": "#E5ECF6",
                      "showlakes": true,
                      "showland": true,
                      "subunitcolor": "white"
                    },
                    "hoverlabel": {
                      "align": "left"
                    },
                    "hovermode": "closest",
                    "mapbox": {
                      "style": "light"
                    },
                    "paper_bgcolor": "white",
                    "plot_bgcolor": "#E5ECF6",
                    "polar": {
                      "angularaxis": {
                        "gridcolor": "white",
                        "linecolor": "white",
                        "ticks": ""
                      },
                      "bgcolor": "#E5ECF6",
                      "radialaxis": {
                        "gridcolor": "white",
                        "linecolor": "white",
                        "ticks": ""
                      }
                    },
                    "scene": {
                      "xaxis": {
                        "backgroundcolor": "#E5ECF6",
                        "gridcolor": "white",
                        "gridwidth": 2,
                        "linecolor": "white",
                        "showbackground": true,
                        "ticks": "",
                        "zerolinecolor": "white"
                      },
                      "yaxis": {
                        "backgroundcolor": "#E5ECF6",
                        "gridcolor": "white",
                        "gridwidth": 2,
                        "linecolor": "white",
                        "showbackground": true,
                        "ticks": "",
                        "zerolinecolor": "white"
                      },
                      "zaxis": {
                        "backgroundcolor": "#E5ECF6",
                        "gridcolor": "white",
                        "gridwidth": 2,
                        "linecolor": "white",
                        "showbackground": true,
                        "ticks": "",
                        "zerolinecolor": "white"
                      }
                    },
                    "shapedefaults": {
                      "line": {
                        "color": "#2a3f5f"
                      }
                    },
                    "ternary": {
                      "aaxis": {
                        "gridcolor": "white",
                        "linecolor": "white",
                        "ticks": ""
                      },
                      "baxis": {
                        "gridcolor": "white",
                        "linecolor": "white",
                        "ticks": ""
                      },
                      "bgcolor": "#E5ECF6",
                      "caxis": {
                        "gridcolor": "white",
                        "linecolor": "white",
                        "ticks": ""
                      }
                    },
                    "title": {
                      "x": 0.05
                    },
                    "xaxis": {
                      "automargin": true,
                      "gridcolor": "white",
                      "linecolor": "white",
                      "ticks": "",
                      "title": {
                        "standoff": 15
                      },
                      "zerolinecolor": "white",
                      "zerolinewidth": 2
                    },
                    "yaxis": {
                      "automargin": true,
                      "gridcolor": "white",
                      "linecolor": "white",
                      "ticks": "",
                      "title": {
                        "standoff": 15
                      },
                      "zerolinecolor": "white",
                      "zerolinewidth": 2
                    }
                  }
                },
                "title": {
                  "text": "Top 20 Features of RPPA and Their Counts (Treemap)"
                }
              }
            }
          },
          "metadata": {},
          "output_type": "display_data"
        }
      ],
      "source": [
        "import pandas as pd\n",
        "from collections import Counter\n",
        "import plotly.express as px\n",
        "\n",
        "# Find the top 20 features most frequently selected\n",
        "top_features_with_counts_RPPA = [(feature, count) for feature, count in Counter(selected_features_RPPA).most_common(20)]\n",
        "\n",
        "# Create a DataFrame for the top 20 features and their counts\n",
        "top_features_RPPA = pd.DataFrame(top_features_with_counts_RPPA, columns=['Feature', 'Count'])\n",
        "\n",
        "# Create a treemap using Plotly Express\n",
        "fig = px.treemap(top_features_RPPA, path=['Feature'], values='Count', color='Count')\n",
        "\n",
        "# Customize the appearance of the treemap\n",
        "fig.update_layout(\n",
        "    title='Top 20 Features of RPPA and Their Counts (Treemap)',\n",
        "    margin=dict(l=0, r=0, b=0, t=40)\n",
        ")\n",
        "\n",
        "# Show the treemap\n",
        "fig.show()\n"
      ]
    },
    {
      "cell_type": "code",
      "execution_count": null,
      "metadata": {},
      "outputs": [],
      "source": [
        "final_rppa=CCLE_RPPA_toWork[['CELL_LINE'] +top_20_features_RPPA]"
      ]
    },
    {
      "cell_type": "code",
      "execution_count": 233,
      "metadata": {},
      "outputs": [
        {
          "data": {
            "text/plain": [
              "(4775, 21)"
            ]
          },
          "execution_count": 233,
          "metadata": {},
          "output_type": "execute_result"
        }
      ],
      "source": [
        "final_rppa.shape"
      ]
    },
    {
      "cell_type": "markdown",
      "metadata": {
        "id": "d_fX0CF50Dvs"
      },
      "source": [
        "Metabolomics"
      ]
    },
    {
      "cell_type": "code",
      "execution_count": null,
      "metadata": {
        "id": "NdeByJWI0EJk"
      },
      "outputs": [],
      "source": [
        "CCLE_metabolomics=pd.read_csv('CCLE_metabolomics.csv')"
      ]
    },
    {
      "cell_type": "code",
      "execution_count": null,
      "metadata": {},
      "outputs": [
        {
          "data": {
            "text/plain": [
              "(5485, 234)"
            ]
          },
          "execution_count": 159,
          "metadata": {},
          "output_type": "execute_result"
        }
      ],
      "source": [
        "CCLE_metabolomics.shape"
      ]
    },
    {
      "cell_type": "code",
      "execution_count": null,
      "metadata": {
        "id": "-FecHjQG0fYe"
      },
      "outputs": [],
      "source": [
        "CCLE_metabolomics= CCLE_metabolomics.dropna(subset=['DRUG_NAME', 'IC50', 'AUC', 'Cluster', 'IC50_Class'])"
      ]
    },
    {
      "cell_type": "code",
      "execution_count": null,
      "metadata": {},
      "outputs": [
        {
          "data": {
            "text/plain": [
              "CellLineName      0\n",
              "CELL_LINE         0\n",
              "CELL_LINE_NAME    0\n",
              "DepMap_ID         0\n",
              "2-aminoadipate    0\n",
              "                 ..\n",
              "DRUG_NAME         0\n",
              "IC50              0\n",
              "AUC               0\n",
              "Cluster           0\n",
              "IC50_Class        0\n",
              "Length: 234, dtype: int64"
            ]
          },
          "execution_count": 161,
          "metadata": {},
          "output_type": "execute_result"
        }
      ],
      "source": [
        "CCLE_metabolomics.isna().sum()"
      ]
    },
    {
      "cell_type": "code",
      "execution_count": null,
      "metadata": {},
      "outputs": [],
      "source": [
        "selected2=['DepMap_ID','CellLineName','CELL_LINE_NAME','DRUG_NAME', 'IC50', 'AUC','IC50_Class']"
      ]
    },
    {
      "cell_type": "code",
      "execution_count": null,
      "metadata": {},
      "outputs": [],
      "source": [
        "CCLE_metabolomics_toWork = CCLE_metabolomics.drop(selected2,axis=1)"
      ]
    },
    {
      "cell_type": "code",
      "execution_count": null,
      "metadata": {},
      "outputs": [],
      "source": [
        "import pandas as pd\n",
        "from sklearn.feature_selection import SelectKBest, mutual_info_classif, RFE, SelectFromModel\n",
        "from sklearn.ensemble import RandomForestClassifier\n",
        "from sklearn.linear_model import Lasso\n",
        "from sklearn.preprocessing import MinMaxScaler\n",
        "from sklearn.feature_selection import chi2\n",
        "from collections import Counter\n",
        "\n",
        "# Define the feature selection methods\n",
        "methods = [\n",
        "    ('Mutual Information', SelectKBest(mutual_info_classif, k=20)),\n",
        "    ('Random Forest', SelectKBest(lambda X, y: RandomForestClassifier(n_estimators=100).fit(X, y).feature_importances_, k=20)),\n",
        "    ('Chi-squared', SelectKBest(chi2, k=20)),\n",
        "    ('RFE', RFE(estimator=RandomForestClassifier(n_estimators=100), n_features_to_select=20)),\n",
        "    ('LASSO', SelectFromModel(Lasso(alpha=0.01))),\n",
        "    # Add more methods as needed\n",
        "]\n",
        "\n",
        "# Initialize a dictionary to keep track of feature selections\n",
        "selected_features_CCLE_metabolomics = {feature: 0 for feature in CCLE_metabolomics_toWork.columns}\n",
        "\n",
        "# Define X and y outside the loop\n",
        "X = CCLE_metabolomics_toWork.drop('Cluster', axis=1)  # Features\n",
        "# Apply Min-Max scaling to make all values non-negative\n",
        "scaler = MinMaxScaler()\n",
        "X = scaler.fit_transform(X)\n",
        "y = CCLE_metabolomics_toWork['Cluster']  # Target\n",
        "\n",
        "# Apply feature selection methods\n",
        "for method_name, method in methods:\n",
        "    # Fit the feature selection method\n",
        "    method.fit(X, y)\n",
        "\n",
        "    # Update the selected_features dictionary based on the selected features\n",
        "    selected_indices_metabolomics = method.get_support(indices=True)\n",
        "    for feature_idx in selected_indices_metabolomics:\n",
        "        selected_features_CCLE_metabolomics[CCLE_metabolomics_toWork.columns[feature_idx]] += 1\n",
        "\n",
        "# Find the top 20 features most frequently selected\n",
        "top_20_features_CCLE_metabolomics = [feature for feature, count in Counter(selected_features_CCLE_metabolomics).most_common(20)]\n",
        "\n",
        "# Create a new DataFrame with the top 20 features\n",
        "top_20_counts_CCLE_metabolomics = CCLE_metabolomics_toWork[top_20_features_CCLE_metabolomics + ['Cluster']]\n"
      ]
    },
    {
      "cell_type": "code",
      "execution_count": null,
      "metadata": {},
      "outputs": [
        {
          "data": {
            "image/png": "[encoded data removed]",
            "text/plain": [
              "<Figure size 1200x600 with 1 Axes>"
            ]
          },
          "metadata": {},
          "output_type": "display_data"
        }
      ],
      "source": [
        "from collections import Counter\n",
        "import matplotlib.pyplot as plt\n",
        "import numpy as np\n",
        "\n",
        "# Find the top 20 features most frequently selected\n",
        "top_features_with_counts_CCLE_metabolomics = [(feature, count) for feature, count in Counter(selected_features_CCLE_metabolomics).most_common(20)]\n",
        "\n",
        "# Extract the top 20 features and their counts into separate lists\n",
        "top_20_features_CCLE_metabolomics = [feature for feature, count in top_features_with_counts_CCLE_metabolomics]\n",
        "top_20_counts_CCLE_metabolomics = [count for feature, count in top_features_with_counts_CCLE_metabolomics]\n",
        "\n",
        "# Define a single color shade that decreases for each feature\n",
        "base_color = '#1f77b4'  # Base color\n",
        "\n",
        "# Create a figure and axis\n",
        "fig, ax = plt.subplots(figsize=(12, 6))\n",
        "\n",
        "# Create a range of colors with decreasing brightness\n",
        "colors = [base_color if i == 0 else plt.cm.viridis(i / 20) for i in range(20)]\n",
        "\n",
        "# Create a colorful bar chart with decreasing color shade\n",
        "bars = ax.barh(top_20_features_CCLE_metabolomics, top_20_counts_CCLE_metabolomics, color=colors)\n",
        "plt.xlabel('Counts')\n",
        "plt.title('Top 20 Features of Metabolomics data and Their Counts')\n",
        "plt.gca().invert_yaxis()\n",
        "\n",
        "# Display the chart\n",
        "plt.show()\n"
      ]
    },
    {
      "cell_type": "code",
      "execution_count": null,
      "metadata": {},
      "outputs": [
        {
          "data": {
            "application/vnd.plotly.v1+json": {
              "config": {
                "plotlyServerURL": "https://plot.ly"
              },
              "data": [
                {
                  "branchvalues": "total",
                  "customdata": [
                    [
                      4
                    ],
                    [
                      3
                    ],
                    [
                      2
                    ],
                    [
                      2
                    ],
                    [
                      3
                    ],
                    [
                      3
                    ],
                    [
                      2
                    ],
                    [
                      2
                    ],
                    [
                      2
                    ],
                    [
                      2
                    ],
                    [
                      3
                    ],
                    [
                      2
                    ],
                    [
                      2
                    ],
                    [
                      3
                    ],
                    [
                      1
                    ],
                    [
                      2
                    ],
                    [
                      1
                    ],
                    [
                      3
                    ],
                    [
                      2
                    ],
                    [
                      3
                    ]
                  ],
                  "domain": {
                    "x": [
                      0,
                      1
                    ],
                    "y": [
                      0,
                      1
                    ]
                  },
                  "hovertemplate": "labels=%{label}<br>Count_sum=%{value}<br>parent=%{parent}<br>id=%{id}<br>Count=%{color}<extra></extra>",
                  "ids": [
                    "1-methylnicotinamide",
                    "2-deoxycytidine",
                    "5-adenosylhomocysteine",
                    "AMP",
                    "C20:4 CE",
                    "C20:5 CE",
                    "C36:4 PC-B",
                    "C46:1 TAG",
                    "C50:1 TAG",
                    "C52:5 TAG",
                    "C54:7 TAG",
                    "C56:4 TAG",
                    "CMP",
                    "GABA",
                    "adenine",
                    "alpha-glycerophosphate",
                    "alpha-ketoglutarate",
                    "heptanoylcarnitine",
                    "taurocholate",
                    "thymidine"
                  ],
                  "labels": [
                    "1-methylnicotinamide",
                    "2-deoxycytidine",
                    "5-adenosylhomocysteine",
                    "AMP",
                    "C20:4 CE",
                    "C20:5 CE",
                    "C36:4 PC-B",
                    "C46:1 TAG",
                    "C50:1 TAG",
                    "C52:5 TAG",
                    "C54:7 TAG",
                    "C56:4 TAG",
                    "CMP",
                    "GABA",
                    "adenine",
                    "alpha-glycerophosphate",
                    "alpha-ketoglutarate",
                    "heptanoylcarnitine",
                    "taurocholate",
                    "thymidine"
                  ],
                  "marker": {
                    "coloraxis": "coloraxis",
                    "colors": [
                      4,
                      3,
                      2,
                      2,
                      3,
                      3,
                      2,
                      2,
                      2,
                      2,
                      3,
                      2,
                      2,
                      3,
                      1,
                      2,
                      1,
                      3,
                      2,
                      3
                    ]
                  },
                  "name": "",
                  "parents": [
                    "",
                    "",
                    "",
                    "",
                    "",
                    "",
                    "",
                    "",
                    "",
                    "",
                    "",
                    "",
                    "",
                    "",
                    "",
                    "",
                    "",
                    "",
                    "",
                    ""
                  ],
                  "type": "treemap",
                  "values": [
                    4,
                    3,
                    2,
                    2,
                    3,
                    3,
                    2,
                    2,
                    2,
                    2,
                    3,
                    2,
                    2,
                    3,
                    1,
                    2,
                    1,
                    3,
                    2,
                    3
                  ]
                }
              ],
              "layout": {
                "coloraxis": {
                  "colorbar": {
                    "title": {
                      "text": "Count"
                    }
                  },
                  "colorscale": [
                    [
                      0,
                      "#0d0887"
                    ],
                    [
                      0.1111111111111111,
                      "#46039f"
                    ],
                    [
                      0.2222222222222222,
                      "#7201a8"
                    ],
                    [
                      0.3333333333333333,
                      "#9c179e"
                    ],
                    [
                      0.4444444444444444,
                      "#bd3786"
                    ],
                    [
                      0.5555555555555556,
                      "#d8576b"
                    ],
                    [
                      0.6666666666666666,
                      "#ed7953"
                    ],
                    [
                      0.7777777777777778,
                      "#fb9f3a"
                    ],
                    [
                      0.8888888888888888,
                      "#fdca26"
                    ],
                    [
                      1,
                      "#f0f921"
                    ]
                  ]
                },
                "legend": {
                  "tracegroupgap": 0
                },
                "margin": {
                  "b": 0,
                  "l": 0,
                  "r": 0,
                  "t": 40
                },
                "template": {
                  "data": {
                    "bar": [
                      {
                        "error_x": {
                          "color": "#2a3f5f"
                        },
                        "error_y": {
                          "color": "#2a3f5f"
                        },
                        "marker": {
                          "line": {
                            "color": "#E5ECF6",
                            "width": 0.5
                          },
                          "pattern": {
                            "fillmode": "overlay",
                            "size": 10,
                            "solidity": 0.2
                          }
                        },
                        "type": "bar"
                      }
                    ],
                    "barpolar": [
                      {
                        "marker": {
                          "line": {
                            "color": "#E5ECF6",
                            "width": 0.5
                          },
                          "pattern": {
                            "fillmode": "overlay",
                            "size": 10,
                            "solidity": 0.2
                          }
                        },
                        "type": "barpolar"
                      }
                    ],
                    "carpet": [
                      {
                        "aaxis": {
                          "endlinecolor": "#2a3f5f",
                          "gridcolor": "white",
                          "linecolor": "white",
                          "minorgridcolor": "white",
                          "startlinecolor": "#2a3f5f"
                        },
                        "baxis": {
                          "endlinecolor": "#2a3f5f",
                          "gridcolor": "white",
                          "linecolor": "white",
                          "minorgridcolor": "white",
                          "startlinecolor": "#2a3f5f"
                        },
                        "type": "carpet"
                      }
                    ],
                    "choropleth": [
                      {
                        "colorbar": {
                          "outlinewidth": 0,
                          "ticks": ""
                        },
                        "type": "choropleth"
                      }
                    ],
                    "contour": [
                      {
                        "colorbar": {
                          "outlinewidth": 0,
                          "ticks": ""
                        },
                        "colorscale": [
                          [
                            0,
                            "#0d0887"
                          ],
                          [
                            0.1111111111111111,
                            "#46039f"
                          ],
                          [
                            0.2222222222222222,
                            "#7201a8"
                          ],
                          [
                            0.3333333333333333,
                            "#9c179e"
                          ],
                          [
                            0.4444444444444444,
                            "#bd3786"
                          ],
                          [
                            0.5555555555555556,
                            "#d8576b"
                          ],
                          [
                            0.6666666666666666,
                            "#ed7953"
                          ],
                          [
                            0.7777777777777778,
                            "#fb9f3a"
                          ],
                          [
                            0.8888888888888888,
                            "#fdca26"
                          ],
                          [
                            1,
                            "#f0f921"
                          ]
                        ],
                        "type": "contour"
                      }
                    ],
                    "contourcarpet": [
                      {
                        "colorbar": {
                          "outlinewidth": 0,
                          "ticks": ""
                        },
                        "type": "contourcarpet"
                      }
                    ],
                    "heatmap": [
                      {
                        "colorbar": {
                          "outlinewidth": 0,
                          "ticks": ""
                        },
                        "colorscale": [
                          [
                            0,
                            "#0d0887"
                          ],
                          [
                            0.1111111111111111,
                            "#46039f"
                          ],
                          [
                            0.2222222222222222,
                            "#7201a8"
                          ],
                          [
                            0.3333333333333333,
                            "#9c179e"
                          ],
                          [
                            0.4444444444444444,
                            "#bd3786"
                          ],
                          [
                            0.5555555555555556,
                            "#d8576b"
                          ],
                          [
                            0.6666666666666666,
                            "#ed7953"
                          ],
                          [
                            0.7777777777777778,
                            "#fb9f3a"
                          ],
                          [
                            0.8888888888888888,
                            "#fdca26"
                          ],
                          [
                            1,
                            "#f0f921"
                          ]
                        ],
                        "type": "heatmap"
                      }
                    ],
                    "heatmapgl": [
                      {
                        "colorbar": {
                          "outlinewidth": 0,
                          "ticks": ""
                        },
                        "colorscale": [
                          [
                            0,
                            "#0d0887"
                          ],
                          [
                            0.1111111111111111,
                            "#46039f"
                          ],
                          [
                            0.2222222222222222,
                            "#7201a8"
                          ],
                          [
                            0.3333333333333333,
                            "#9c179e"
                          ],
                          [
                            0.4444444444444444,
                            "#bd3786"
                          ],
                          [
                            0.5555555555555556,
                            "#d8576b"
                          ],
                          [
                            0.6666666666666666,
                            "#ed7953"
                          ],
                          [
                            0.7777777777777778,
                            "#fb9f3a"
                          ],
                          [
                            0.8888888888888888,
                            "#fdca26"
                          ],
                          [
                            1,
                            "#f0f921"
                          ]
                        ],
                        "type": "heatmapgl"
                      }
                    ],
                    "histogram": [
                      {
                        "marker": {
                          "pattern": {
                            "fillmode": "overlay",
                            "size": 10,
                            "solidity": 0.2
                          }
                        },
                        "type": "histogram"
                      }
                    ],
                    "histogram2d": [
                      {
                        "colorbar": {
                          "outlinewidth": 0,
                          "ticks": ""
                        },
                        "colorscale": [
                          [
                            0,
                            "#0d0887"
                          ],
                          [
                            0.1111111111111111,
                            "#46039f"
                          ],
                          [
                            0.2222222222222222,
                            "#7201a8"
                          ],
                          [
                            0.3333333333333333,
                            "#9c179e"
                          ],
                          [
                            0.4444444444444444,
                            "#bd3786"
                          ],
                          [
                            0.5555555555555556,
                            "#d8576b"
                          ],
                          [
                            0.6666666666666666,
                            "#ed7953"
                          ],
                          [
                            0.7777777777777778,
                            "#fb9f3a"
                          ],
                          [
                            0.8888888888888888,
                            "#fdca26"
                          ],
                          [
                            1,
                            "#f0f921"
                          ]
                        ],
                        "type": "histogram2d"
                      }
                    ],
                    "histogram2dcontour": [
                      {
                        "colorbar": {
                          "outlinewidth": 0,
                          "ticks": ""
                        },
                        "colorscale": [
                          [
                            0,
                            "#0d0887"
                          ],
                          [
                            0.1111111111111111,
                            "#46039f"
                          ],
                          [
                            0.2222222222222222,
                            "#7201a8"
                          ],
                          [
                            0.3333333333333333,
                            "#9c179e"
                          ],
                          [
                            0.4444444444444444,
                            "#bd3786"
                          ],
                          [
                            0.5555555555555556,
                            "#d8576b"
                          ],
                          [
                            0.6666666666666666,
                            "#ed7953"
                          ],
                          [
                            0.7777777777777778,
                            "#fb9f3a"
                          ],
                          [
                            0.8888888888888888,
                            "#fdca26"
                          ],
                          [
                            1,
                            "#f0f921"
                          ]
                        ],
                        "type": "histogram2dcontour"
                      }
                    ],
                    "mesh3d": [
                      {
                        "colorbar": {
                          "outlinewidth": 0,
                          "ticks": ""
                        },
                        "type": "mesh3d"
                      }
                    ],
                    "parcoords": [
                      {
                        "line": {
                          "colorbar": {
                            "outlinewidth": 0,
                            "ticks": ""
                          }
                        },
                        "type": "parcoords"
                      }
                    ],
                    "pie": [
                      {
                        "automargin": true,
                        "type": "pie"
                      }
                    ],
                    "scatter": [
                      {
                        "fillpattern": {
                          "fillmode": "overlay",
                          "size": 10,
                          "solidity": 0.2
                        },
                        "type": "scatter"
                      }
                    ],
                    "scatter3d": [
                      {
                        "line": {
                          "colorbar": {
                            "outlinewidth": 0,
                            "ticks": ""
                          }
                        },
                        "marker": {
                          "colorbar": {
                            "outlinewidth": 0,
                            "ticks": ""
                          }
                        },
                        "type": "scatter3d"
                      }
                    ],
                    "scattercarpet": [
                      {
                        "marker": {
                          "colorbar": {
                            "outlinewidth": 0,
                            "ticks": ""
                          }
                        },
                        "type": "scattercarpet"
                      }
                    ],
                    "scattergeo": [
                      {
                        "marker": {
                          "colorbar": {
                            "outlinewidth": 0,
                            "ticks": ""
                          }
                        },
                        "type": "scattergeo"
                      }
                    ],
                    "scattergl": [
                      {
                        "marker": {
                          "colorbar": {
                            "outlinewidth": 0,
                            "ticks": ""
                          }
                        },
                        "type": "scattergl"
                      }
                    ],
                    "scattermapbox": [
                      {
                        "marker": {
                          "colorbar": {
                            "outlinewidth": 0,
                            "ticks": ""
                          }
                        },
                        "type": "scattermapbox"
                      }
                    ],
                    "scatterpolar": [
                      {
                        "marker": {
                          "colorbar": {
                            "outlinewidth": 0,
                            "ticks": ""
                          }
                        },
                        "type": "scatterpolar"
                      }
                    ],
                    "scatterpolargl": [
                      {
                        "marker": {
                          "colorbar": {
                            "outlinewidth": 0,
                            "ticks": ""
                          }
                        },
                        "type": "scatterpolargl"
                      }
                    ],
                    "scatterternary": [
                      {
                        "marker": {
                          "colorbar": {
                            "outlinewidth": 0,
                            "ticks": ""
                          }
                        },
                        "type": "scatterternary"
                      }
                    ],
                    "surface": [
                      {
                        "colorbar": {
                          "outlinewidth": 0,
                          "ticks": ""
                        },
                        "colorscale": [
                          [
                            0,
                            "#0d0887"
                          ],
                          [
                            0.1111111111111111,
                            "#46039f"
                          ],
                          [
                            0.2222222222222222,
                            "#7201a8"
                          ],
                          [
                            0.3333333333333333,
                            "#9c179e"
                          ],
                          [
                            0.4444444444444444,
                            "#bd3786"
                          ],
                          [
                            0.5555555555555556,
                            "#d8576b"
                          ],
                          [
                            0.6666666666666666,
                            "#ed7953"
                          ],
                          [
                            0.7777777777777778,
                            "#fb9f3a"
                          ],
                          [
                            0.8888888888888888,
                            "#fdca26"
                          ],
                          [
                            1,
                            "#f0f921"
                          ]
                        ],
                        "type": "surface"
                      }
                    ],
                    "table": [
                      {
                        "cells": {
                          "fill": {
                            "color": "#EBF0F8"
                          },
                          "line": {
                            "color": "white"
                          }
                        },
                        "header": {
                          "fill": {
                            "color": "#C8D4E3"
                          },
                          "line": {
                            "color": "white"
                          }
                        },
                        "type": "table"
                      }
                    ]
                  },
                  "layout": {
                    "annotationdefaults": {
                      "arrowcolor": "#2a3f5f",
                      "arrowhead": 0,
                      "arrowwidth": 1
                    },
                    "autotypenumbers": "strict",
                    "coloraxis": {
                      "colorbar": {
                        "outlinewidth": 0,
                        "ticks": ""
                      }
                    },
                    "colorscale": {
                      "diverging": [
                        [
                          0,
                          "#8e0152"
                        ],
                        [
                          0.1,
                          "#c51b7d"
                        ],
                        [
                          0.2,
                          "#de77ae"
                        ],
                        [
                          0.3,
                          "#f1b6da"
                        ],
                        [
                          0.4,
                          "#fde0ef"
                        ],
                        [
                          0.5,
                          "#f7f7f7"
                        ],
                        [
                          0.6,
                          "#e6f5d0"
                        ],
                        [
                          0.7,
                          "#b8e186"
                        ],
                        [
                          0.8,
                          "#7fbc41"
                        ],
                        [
                          0.9,
                          "#4d9221"
                        ],
                        [
                          1,
                          "#276419"
                        ]
                      ],
                      "sequential": [
                        [
                          0,
                          "#0d0887"
                        ],
                        [
                          0.1111111111111111,
                          "#46039f"
                        ],
                        [
                          0.2222222222222222,
                          "#7201a8"
                        ],
                        [
                          0.3333333333333333,
                          "#9c179e"
                        ],
                        [
                          0.4444444444444444,
                          "#bd3786"
                        ],
                        [
                          0.5555555555555556,
                          "#d8576b"
                        ],
                        [
                          0.6666666666666666,
                          "#ed7953"
                        ],
                        [
                          0.7777777777777778,
                          "#fb9f3a"
                        ],
                        [
                          0.8888888888888888,
                          "#fdca26"
                        ],
                        [
                          1,
                          "#f0f921"
                        ]
                      ],
                      "sequentialminus": [
                        [
                          0,
                          "#0d0887"
                        ],
                        [
                          0.1111111111111111,
                          "#46039f"
                        ],
                        [
                          0.2222222222222222,
                          "#7201a8"
                        ],
                        [
                          0.3333333333333333,
                          "#9c179e"
                        ],
                        [
                          0.4444444444444444,
                          "#bd3786"
                        ],
                        [
                          0.5555555555555556,
                          "#d8576b"
                        ],
                        [
                          0.6666666666666666,
                          "#ed7953"
                        ],
                        [
                          0.7777777777777778,
                          "#fb9f3a"
                        ],
                        [
                          0.8888888888888888,
                          "#fdca26"
                        ],
                        [
                          1,
                          "#f0f921"
                        ]
                      ]
                    },
                    "colorway": [
                      "#636efa",
                      "#EF553B",
                      "#00cc96",
                      "#ab63fa",
                      "#FFA15A",
                      "#19d3f3",
                      "#FF6692",
                      "#B6E880",
                      "#FF97FF",
                      "#FECB52"
                    ],
                    "font": {
                      "color": "#2a3f5f"
                    },
                    "geo": {
                      "bgcolor": "white",
                      "lakecolor": "white",
                      "landcolor": "#E5ECF6",
                      "showlakes": true,
                      "showland": true,
                      "subunitcolor": "white"
                    },
                    "hoverlabel": {
                      "align": "left"
                    },
                    "hovermode": "closest",
                    "mapbox": {
                      "style": "light"
                    },
                    "paper_bgcolor": "white",
                    "plot_bgcolor": "#E5ECF6",
                    "polar": {
                      "angularaxis": {
                        "gridcolor": "white",
                        "linecolor": "white",
                        "ticks": ""
                      },
                      "bgcolor": "#E5ECF6",
                      "radialaxis": {
                        "gridcolor": "white",
                        "linecolor": "white",
                        "ticks": ""
                      }
                    },
                    "scene": {
                      "xaxis": {
                        "backgroundcolor": "#E5ECF6",
                        "gridcolor": "white",
                        "gridwidth": 2,
                        "linecolor": "white",
                        "showbackground": true,
                        "ticks": "",
                        "zerolinecolor": "white"
                      },
                      "yaxis": {
                        "backgroundcolor": "#E5ECF6",
                        "gridcolor": "white",
                        "gridwidth": 2,
                        "linecolor": "white",
                        "showbackground": true,
                        "ticks": "",
                        "zerolinecolor": "white"
                      },
                      "zaxis": {
                        "backgroundcolor": "#E5ECF6",
                        "gridcolor": "white",
                        "gridwidth": 2,
                        "linecolor": "white",
                        "showbackground": true,
                        "ticks": "",
                        "zerolinecolor": "white"
                      }
                    },
                    "shapedefaults": {
                      "line": {
                        "color": "#2a3f5f"
                      }
                    },
                    "ternary": {
                      "aaxis": {
                        "gridcolor": "white",
                        "linecolor": "white",
                        "ticks": ""
                      },
                      "baxis": {
                        "gridcolor": "white",
                        "linecolor": "white",
                        "ticks": ""
                      },
                      "bgcolor": "#E5ECF6",
                      "caxis": {
                        "gridcolor": "white",
                        "linecolor": "white",
                        "ticks": ""
                      }
                    },
                    "title": {
                      "x": 0.05
                    },
                    "xaxis": {
                      "automargin": true,
                      "gridcolor": "white",
                      "linecolor": "white",
                      "ticks": "",
                      "title": {
                        "standoff": 15
                      },
                      "zerolinecolor": "white",
                      "zerolinewidth": 2
                    },
                    "yaxis": {
                      "automargin": true,
                      "gridcolor": "white",
                      "linecolor": "white",
                      "ticks": "",
                      "title": {
                        "standoff": 15
                      },
                      "zerolinecolor": "white",
                      "zerolinewidth": 2
                    }
                  }
                },
                "title": {
                  "text": "Top 20 Features of metabolomics data and Their Counts (Treemap)"
                }
              }
            }
          },
          "metadata": {},
          "output_type": "display_data"
        }
      ],
      "source": [
        "import pandas as pd\n",
        "from collections import Counter\n",
        "import plotly.express as px\n",
        "\n",
        "# Find the top 20 features most frequently selected\n",
        "top_features_with_counts_CCLE_metabolomics = [(feature, count) for feature, count in Counter(selected_features_CCLE_metabolomics).most_common(20)]\n",
        "\n",
        "# Create a DataFrame for the top 20 features and their counts\n",
        "top_features_CCLE_metabolomics = pd.DataFrame(top_features_with_counts_CCLE_metabolomics, columns=['Feature', 'Count'])\n",
        "\n",
        "# Create a treemap using Plotly Express\n",
        "fig = px.treemap(top_features_CCLE_metabolomics, path=['Feature'], values='Count', color='Count')\n",
        "\n",
        "# Customize the appearance of the treemap\n",
        "fig.update_layout(\n",
        "    title='Top 20 Features of metabolomics data and Their Counts (Treemap)',\n",
        "    margin=dict(l=0, r=0, b=0, t=40)\n",
        ")\n",
        "\n",
        "# Show the treemap\n",
        "fig.show()\n"
      ]
    },
    {
      "cell_type": "code",
      "execution_count": null,
      "metadata": {},
      "outputs": [
        {
          "data": {
            "text/plain": [
              "['1-methylnicotinamide',\n",
              " 'GABA',\n",
              " 'thymidine',\n",
              " '2-deoxycytidine',\n",
              " 'heptanoylcarnitine',\n",
              " 'C20:5 CE',\n",
              " 'C20:4 CE',\n",
              " 'C54:7 TAG',\n",
              " 'alpha-glycerophosphate',\n",
              " 'AMP',\n",
              " 'CMP',\n",
              " 'taurocholate',\n",
              " '5-adenosylhomocysteine',\n",
              " 'C36:4 PC-B',\n",
              " 'C46:1 TAG',\n",
              " 'C50:1 TAG',\n",
              " 'C52:5 TAG',\n",
              " 'C56:4 TAG',\n",
              " 'adenine',\n",
              " 'alpha-ketoglutarate']"
            ]
          },
          "execution_count": 71,
          "metadata": {},
          "output_type": "execute_result"
        }
      ],
      "source": [
        "top_20_features_CCLE_metabolomics"
      ]
    },
    {
      "cell_type": "code",
      "execution_count": null,
      "metadata": {},
      "outputs": [],
      "source": [
        "final_metabolomics=CCLE_metabolomics_toWork[['CELL_LINE'] +top_20_features_CCLE_metabolomics]"
      ]
    },
    {
      "cell_type": "code",
      "execution_count": null,
      "metadata": {},
      "outputs": [
        {
          "data": {
            "text/html": [
              "<div>\n",
              "<style scoped>\n",
              "    .dataframe tbody tr th:only-of-type {\n",
              "        vertical-align: middle;\n",
              "    }\n",
              "\n",
              "    .dataframe tbody tr th {\n",
              "        vertical-align: top;\n",
              "    }\n",
              "\n",
              "    .dataframe thead th {\n",
              "        text-align: right;\n",
              "    }\n",
              "</style>\n",
              "<table border=\"1\" class=\"dataframe\">\n",
              "  <thead>\n",
              "    <tr style=\"text-align: right;\">\n",
              "      <th></th>\n",
              "      <th>CELL_LINE</th>\n",
              "      <th>1-methylnicotinamide</th>\n",
              "      <th>GABA</th>\n",
              "      <th>thymidine</th>\n",
              "      <th>2-deoxycytidine</th>\n",
              "      <th>heptanoylcarnitine</th>\n",
              "      <th>C20:5 CE</th>\n",
              "      <th>C20:4 CE</th>\n",
              "      <th>C54:7 TAG</th>\n",
              "      <th>alpha-glycerophosphate</th>\n",
              "      <th>...</th>\n",
              "      <th>CMP</th>\n",
              "      <th>taurocholate</th>\n",
              "      <th>5-adenosylhomocysteine</th>\n",
              "      <th>C36:4 PC-B</th>\n",
              "      <th>C46:1 TAG</th>\n",
              "      <th>C50:1 TAG</th>\n",
              "      <th>C52:5 TAG</th>\n",
              "      <th>C56:4 TAG</th>\n",
              "      <th>adenine</th>\n",
              "      <th>alpha-ketoglutarate</th>\n",
              "    </tr>\n",
              "  </thead>\n",
              "  <tbody>\n",
              "    <tr>\n",
              "      <th>2</th>\n",
              "      <td>NCIH1694</td>\n",
              "      <td>5.332971</td>\n",
              "      <td>6.513363</td>\n",
              "      <td>6.947608</td>\n",
              "      <td>7.142500</td>\n",
              "      <td>5.647365</td>\n",
              "      <td>5.686882</td>\n",
              "      <td>5.846850</td>\n",
              "      <td>5.861075</td>\n",
              "      <td>5.541259</td>\n",
              "      <td>...</td>\n",
              "      <td>5.678911</td>\n",
              "      <td>5.947246</td>\n",
              "      <td>5.367730</td>\n",
              "      <td>5.700943</td>\n",
              "      <td>6.205165</td>\n",
              "      <td>6.143041</td>\n",
              "      <td>5.733025</td>\n",
              "      <td>6.137530</td>\n",
              "      <td>5.875548</td>\n",
              "      <td>5.839640</td>\n",
              "    </tr>\n",
              "    <tr>\n",
              "      <th>3</th>\n",
              "      <td>NCIH1694</td>\n",
              "      <td>5.332971</td>\n",
              "      <td>6.513363</td>\n",
              "      <td>6.947608</td>\n",
              "      <td>7.142500</td>\n",
              "      <td>5.647365</td>\n",
              "      <td>5.686882</td>\n",
              "      <td>5.846850</td>\n",
              "      <td>5.861075</td>\n",
              "      <td>5.541259</td>\n",
              "      <td>...</td>\n",
              "      <td>5.678911</td>\n",
              "      <td>5.947246</td>\n",
              "      <td>5.367730</td>\n",
              "      <td>5.700943</td>\n",
              "      <td>6.205165</td>\n",
              "      <td>6.143041</td>\n",
              "      <td>5.733025</td>\n",
              "      <td>6.137530</td>\n",
              "      <td>5.875548</td>\n",
              "      <td>5.839640</td>\n",
              "    </tr>\n",
              "    <tr>\n",
              "      <th>4</th>\n",
              "      <td>NCIH1694</td>\n",
              "      <td>5.332971</td>\n",
              "      <td>6.513363</td>\n",
              "      <td>6.947608</td>\n",
              "      <td>7.142500</td>\n",
              "      <td>5.647365</td>\n",
              "      <td>5.686882</td>\n",
              "      <td>5.846850</td>\n",
              "      <td>5.861075</td>\n",
              "      <td>5.541259</td>\n",
              "      <td>...</td>\n",
              "      <td>5.678911</td>\n",
              "      <td>5.947246</td>\n",
              "      <td>5.367730</td>\n",
              "      <td>5.700943</td>\n",
              "      <td>6.205165</td>\n",
              "      <td>6.143041</td>\n",
              "      <td>5.733025</td>\n",
              "      <td>6.137530</td>\n",
              "      <td>5.875548</td>\n",
              "      <td>5.839640</td>\n",
              "    </tr>\n",
              "    <tr>\n",
              "      <th>5</th>\n",
              "      <td>NCIH1694</td>\n",
              "      <td>5.332971</td>\n",
              "      <td>6.513363</td>\n",
              "      <td>6.947608</td>\n",
              "      <td>7.142500</td>\n",
              "      <td>5.647365</td>\n",
              "      <td>5.686882</td>\n",
              "      <td>5.846850</td>\n",
              "      <td>5.861075</td>\n",
              "      <td>5.541259</td>\n",
              "      <td>...</td>\n",
              "      <td>5.678911</td>\n",
              "      <td>5.947246</td>\n",
              "      <td>5.367730</td>\n",
              "      <td>5.700943</td>\n",
              "      <td>6.205165</td>\n",
              "      <td>6.143041</td>\n",
              "      <td>5.733025</td>\n",
              "      <td>6.137530</td>\n",
              "      <td>5.875548</td>\n",
              "      <td>5.839640</td>\n",
              "    </tr>\n",
              "    <tr>\n",
              "      <th>6</th>\n",
              "      <td>NCIH1694</td>\n",
              "      <td>5.332971</td>\n",
              "      <td>6.513363</td>\n",
              "      <td>6.947608</td>\n",
              "      <td>7.142500</td>\n",
              "      <td>5.647365</td>\n",
              "      <td>5.686882</td>\n",
              "      <td>5.846850</td>\n",
              "      <td>5.861075</td>\n",
              "      <td>5.541259</td>\n",
              "      <td>...</td>\n",
              "      <td>5.678911</td>\n",
              "      <td>5.947246</td>\n",
              "      <td>5.367730</td>\n",
              "      <td>5.700943</td>\n",
              "      <td>6.205165</td>\n",
              "      <td>6.143041</td>\n",
              "      <td>5.733025</td>\n",
              "      <td>6.137530</td>\n",
              "      <td>5.875548</td>\n",
              "      <td>5.839640</td>\n",
              "    </tr>\n",
              "    <tr>\n",
              "      <th>...</th>\n",
              "      <td>...</td>\n",
              "      <td>...</td>\n",
              "      <td>...</td>\n",
              "      <td>...</td>\n",
              "      <td>...</td>\n",
              "      <td>...</td>\n",
              "      <td>...</td>\n",
              "      <td>...</td>\n",
              "      <td>...</td>\n",
              "      <td>...</td>\n",
              "      <td>...</td>\n",
              "      <td>...</td>\n",
              "      <td>...</td>\n",
              "      <td>...</td>\n",
              "      <td>...</td>\n",
              "      <td>...</td>\n",
              "      <td>...</td>\n",
              "      <td>...</td>\n",
              "      <td>...</td>\n",
              "      <td>...</td>\n",
              "      <td>...</td>\n",
              "    </tr>\n",
              "    <tr>\n",
              "      <th>5468</th>\n",
              "      <td>OE21</td>\n",
              "      <td>3.786443</td>\n",
              "      <td>6.333763</td>\n",
              "      <td>5.962563</td>\n",
              "      <td>5.934781</td>\n",
              "      <td>5.998872</td>\n",
              "      <td>5.896769</td>\n",
              "      <td>6.027035</td>\n",
              "      <td>6.010511</td>\n",
              "      <td>5.472012</td>\n",
              "      <td>...</td>\n",
              "      <td>5.543927</td>\n",
              "      <td>5.407624</td>\n",
              "      <td>6.221911</td>\n",
              "      <td>5.846288</td>\n",
              "      <td>5.819424</td>\n",
              "      <td>5.729395</td>\n",
              "      <td>5.880679</td>\n",
              "      <td>5.734713</td>\n",
              "      <td>6.025035</td>\n",
              "      <td>5.758985</td>\n",
              "    </tr>\n",
              "    <tr>\n",
              "      <th>5469</th>\n",
              "      <td>OE21</td>\n",
              "      <td>3.786443</td>\n",
              "      <td>6.333763</td>\n",
              "      <td>5.962563</td>\n",
              "      <td>5.934781</td>\n",
              "      <td>5.998872</td>\n",
              "      <td>5.896769</td>\n",
              "      <td>6.027035</td>\n",
              "      <td>6.010511</td>\n",
              "      <td>5.472012</td>\n",
              "      <td>...</td>\n",
              "      <td>5.543927</td>\n",
              "      <td>5.407624</td>\n",
              "      <td>6.221911</td>\n",
              "      <td>5.846288</td>\n",
              "      <td>5.819424</td>\n",
              "      <td>5.729395</td>\n",
              "      <td>5.880679</td>\n",
              "      <td>5.734713</td>\n",
              "      <td>6.025035</td>\n",
              "      <td>5.758985</td>\n",
              "    </tr>\n",
              "    <tr>\n",
              "      <th>5470</th>\n",
              "      <td>OE21</td>\n",
              "      <td>3.786443</td>\n",
              "      <td>6.333763</td>\n",
              "      <td>5.962563</td>\n",
              "      <td>5.934781</td>\n",
              "      <td>5.998872</td>\n",
              "      <td>5.896769</td>\n",
              "      <td>6.027035</td>\n",
              "      <td>6.010511</td>\n",
              "      <td>5.472012</td>\n",
              "      <td>...</td>\n",
              "      <td>5.543927</td>\n",
              "      <td>5.407624</td>\n",
              "      <td>6.221911</td>\n",
              "      <td>5.846288</td>\n",
              "      <td>5.819424</td>\n",
              "      <td>5.729395</td>\n",
              "      <td>5.880679</td>\n",
              "      <td>5.734713</td>\n",
              "      <td>6.025035</td>\n",
              "      <td>5.758985</td>\n",
              "    </tr>\n",
              "    <tr>\n",
              "      <th>5471</th>\n",
              "      <td>OE21</td>\n",
              "      <td>3.786443</td>\n",
              "      <td>6.333763</td>\n",
              "      <td>5.962563</td>\n",
              "      <td>5.934781</td>\n",
              "      <td>5.998872</td>\n",
              "      <td>5.896769</td>\n",
              "      <td>6.027035</td>\n",
              "      <td>6.010511</td>\n",
              "      <td>5.472012</td>\n",
              "      <td>...</td>\n",
              "      <td>5.543927</td>\n",
              "      <td>5.407624</td>\n",
              "      <td>6.221911</td>\n",
              "      <td>5.846288</td>\n",
              "      <td>5.819424</td>\n",
              "      <td>5.729395</td>\n",
              "      <td>5.880679</td>\n",
              "      <td>5.734713</td>\n",
              "      <td>6.025035</td>\n",
              "      <td>5.758985</td>\n",
              "    </tr>\n",
              "    <tr>\n",
              "      <th>5472</th>\n",
              "      <td>OE21</td>\n",
              "      <td>3.786443</td>\n",
              "      <td>6.333763</td>\n",
              "      <td>5.962563</td>\n",
              "      <td>5.934781</td>\n",
              "      <td>5.998872</td>\n",
              "      <td>5.896769</td>\n",
              "      <td>6.027035</td>\n",
              "      <td>6.010511</td>\n",
              "      <td>5.472012</td>\n",
              "      <td>...</td>\n",
              "      <td>5.543927</td>\n",
              "      <td>5.407624</td>\n",
              "      <td>6.221911</td>\n",
              "      <td>5.846288</td>\n",
              "      <td>5.819424</td>\n",
              "      <td>5.729395</td>\n",
              "      <td>5.880679</td>\n",
              "      <td>5.734713</td>\n",
              "      <td>6.025035</td>\n",
              "      <td>5.758985</td>\n",
              "    </tr>\n",
              "  </tbody>\n",
              "</table>\n",
              "<p>4892 rows × 21 columns</p>\n",
              "</div>"
            ],
            "text/plain": [
              "     CELL_LINE  1-methylnicotinamide      GABA  thymidine  2-deoxycytidine  \\\n",
              "2     NCIH1694              5.332971  6.513363   6.947608         7.142500   \n",
              "3     NCIH1694              5.332971  6.513363   6.947608         7.142500   \n",
              "4     NCIH1694              5.332971  6.513363   6.947608         7.142500   \n",
              "5     NCIH1694              5.332971  6.513363   6.947608         7.142500   \n",
              "6     NCIH1694              5.332971  6.513363   6.947608         7.142500   \n",
              "...        ...                   ...       ...        ...              ...   \n",
              "5468      OE21              3.786443  6.333763   5.962563         5.934781   \n",
              "5469      OE21              3.786443  6.333763   5.962563         5.934781   \n",
              "5470      OE21              3.786443  6.333763   5.962563         5.934781   \n",
              "5471      OE21              3.786443  6.333763   5.962563         5.934781   \n",
              "5472      OE21              3.786443  6.333763   5.962563         5.934781   \n",
              "\n",
              "      heptanoylcarnitine  C20:5 CE  C20:4 CE  C54:7 TAG  \\\n",
              "2               5.647365  5.686882  5.846850   5.861075   \n",
              "3               5.647365  5.686882  5.846850   5.861075   \n",
              "4               5.647365  5.686882  5.846850   5.861075   \n",
              "5               5.647365  5.686882  5.846850   5.861075   \n",
              "6               5.647365  5.686882  5.846850   5.861075   \n",
              "...                  ...       ...       ...        ...   \n",
              "5468            5.998872  5.896769  6.027035   6.010511   \n",
              "5469            5.998872  5.896769  6.027035   6.010511   \n",
              "5470            5.998872  5.896769  6.027035   6.010511   \n",
              "5471            5.998872  5.896769  6.027035   6.010511   \n",
              "5472            5.998872  5.896769  6.027035   6.010511   \n",
              "\n",
              "      alpha-glycerophosphate  ...       CMP  taurocholate  \\\n",
              "2                   5.541259  ...  5.678911      5.947246   \n",
              "3                   5.541259  ...  5.678911      5.947246   \n",
              "4                   5.541259  ...  5.678911      5.947246   \n",
              "5                   5.541259  ...  5.678911      5.947246   \n",
              "6                   5.541259  ...  5.678911      5.947246   \n",
              "...                      ...  ...       ...           ...   \n",
              "5468                5.472012  ...  5.543927      5.407624   \n",
              "5469                5.472012  ...  5.543927      5.407624   \n",
              "5470                5.472012  ...  5.543927      5.407624   \n",
              "5471                5.472012  ...  5.543927      5.407624   \n",
              "5472                5.472012  ...  5.543927      5.407624   \n",
              "\n",
              "      5-adenosylhomocysteine  C36:4 PC-B  C46:1 TAG  C50:1 TAG  C52:5 TAG  \\\n",
              "2                   5.367730    5.700943   6.205165   6.143041   5.733025   \n",
              "3                   5.367730    5.700943   6.205165   6.143041   5.733025   \n",
              "4                   5.367730    5.700943   6.205165   6.143041   5.733025   \n",
              "5                   5.367730    5.700943   6.205165   6.143041   5.733025   \n",
              "6                   5.367730    5.700943   6.205165   6.143041   5.733025   \n",
              "...                      ...         ...        ...        ...        ...   \n",
              "5468                6.221911    5.846288   5.819424   5.729395   5.880679   \n",
              "5469                6.221911    5.846288   5.819424   5.729395   5.880679   \n",
              "5470                6.221911    5.846288   5.819424   5.729395   5.880679   \n",
              "5471                6.221911    5.846288   5.819424   5.729395   5.880679   \n",
              "5472                6.221911    5.846288   5.819424   5.729395   5.880679   \n",
              "\n",
              "      C56:4 TAG   adenine  alpha-ketoglutarate  \n",
              "2      6.137530  5.875548             5.839640  \n",
              "3      6.137530  5.875548             5.839640  \n",
              "4      6.137530  5.875548             5.839640  \n",
              "5      6.137530  5.875548             5.839640  \n",
              "6      6.137530  5.875548             5.839640  \n",
              "...         ...       ...                  ...  \n",
              "5468   5.734713  6.025035             5.758985  \n",
              "5469   5.734713  6.025035             5.758985  \n",
              "5470   5.734713  6.025035             5.758985  \n",
              "5471   5.734713  6.025035             5.758985  \n",
              "5472   5.734713  6.025035             5.758985  \n",
              "\n",
              "[4892 rows x 21 columns]"
            ]
          },
          "execution_count": 170,
          "metadata": {},
          "output_type": "execute_result"
        }
      ],
      "source": [
        "final_metabolomics"
      ]
    },
    {
      "cell_type": "markdown",
      "metadata": {},
      "source": [
        "Working with Drug data"
      ]
    },
    {
      "cell_type": "code",
      "execution_count": null,
      "metadata": {},
      "outputs": [],
      "source": [
        "drugdata=pd.read_csv(\"CCLE_Scaffold.csv\")"
      ]
    },
    {
      "cell_type": "code",
      "execution_count": null,
      "metadata": {},
      "outputs": [],
      "source": [
        "throw=['IC50']\n",
        "drugdata=drugdata.drop(throw,axis=1)"
      ]
    },
    {
      "cell_type": "code",
      "execution_count": null,
      "metadata": {},
      "outputs": [],
      "source": [
        "drugdata"
      ]
    },
    {
      "cell_type": "markdown",
      "metadata": {},
      "source": [
        "Merging of Dataframes"
      ]
    },
    {
      "cell_type": "code",
      "execution_count": 202,
      "metadata": {},
      "outputs": [],
      "source": [
        "import pandas as pd\n",
        "\n",
        "# Set the option to display all columns\n",
        "pd.set_option('display.max_columns', None)\n",
        "pd.set_option('display.max_rows', None)"
      ]
    },
    {
      "cell_type": "code",
      "execution_count": 225,
      "metadata": {},
      "outputs": [],
      "source": [
        "drugchromatin_merge = final_chromatin.merge(drugdata, on='CELL_LINE', how='inner')"
      ]
    },
    {
      "cell_type": "code",
      "execution_count": 226,
      "metadata": {},
      "outputs": [
        {
          "data": {
            "text/plain": [
              "(211279, 76)"
            ]
          },
          "execution_count": 226,
          "metadata": {},
          "output_type": "execute_result"
        }
      ],
      "source": [
        "drugchromatin_merge.shape"
      ]
    },
    {
      "cell_type": "code",
      "execution_count": 227,
      "metadata": {},
      "outputs": [],
      "source": [
        "drugchromatin_merge=drugChromatin_merge.drop_duplicates()"
      ]
    },
    {
      "cell_type": "code",
      "execution_count": 228,
      "metadata": {},
      "outputs": [
        {
          "data": {
            "text/plain": [
              "(21759, 76)"
            ]
          },
          "execution_count": 228,
          "metadata": {},
          "output_type": "execute_result"
        }
      ],
      "source": [
        "drugchromatin_merge.shape"
      ]
    },
    {
      "cell_type": "code",
      "execution_count": 215,
      "metadata": {},
      "outputs": [],
      "source": [
        "drugRPPA_merge=final_rppa.merge(drugdata, on='CELL_LINE', how='inner')"
      ]
    },
    {
      "cell_type": "code",
      "execution_count": 216,
      "metadata": {},
      "outputs": [
        {
          "data": {
            "text/plain": [
              "(210220, 76)"
            ]
          },
          "execution_count": 216,
          "metadata": {},
          "output_type": "execute_result"
        }
      ],
      "source": [
        "drugRPPA_merge.shape"
      ]
    },
    {
      "cell_type": "code",
      "execution_count": 217,
      "metadata": {},
      "outputs": [],
      "source": [
        "drugRPPA_merge=drugRPPA_merge.drop_duplicates()"
      ]
    },
    {
      "cell_type": "code",
      "execution_count": 218,
      "metadata": {},
      "outputs": [
        {
          "data": {
            "text/plain": [
              "(14388, 76)"
            ]
          },
          "execution_count": 218,
          "metadata": {},
          "output_type": "execute_result"
        }
      ],
      "source": [
        "drugRPPA_merge.shape"
      ]
    },
    {
      "cell_type": "code",
      "execution_count": 220,
      "metadata": {},
      "outputs": [],
      "source": [
        "drugmetabolics_merge=final_metabolomics.merge(drugdata,on='CELL_LINE',how='inner')"
      ]
    },
    {
      "cell_type": "code",
      "execution_count": 221,
      "metadata": {},
      "outputs": [
        {
          "data": {
            "text/plain": [
              "(214901, 76)"
            ]
          },
          "execution_count": 221,
          "metadata": {},
          "output_type": "execute_result"
        }
      ],
      "source": [
        "drugmetabolics_merge.shape"
      ]
    },
    {
      "cell_type": "code",
      "execution_count": 222,
      "metadata": {},
      "outputs": [],
      "source": [
        "drugmetabolics_merge=drugmetabolics_merge.drop_duplicates()"
      ]
    },
    {
      "cell_type": "code",
      "execution_count": null,
      "metadata": {},
      "outputs": [],
      "source": [
        "drugmetabolics_merge.shape"
      ]
    },
    {
      "cell_type": "code",
      "execution_count": 239,
      "metadata": {},
      "outputs": [],
      "source": [
        "drugchromatinrrpa_merge=drugchromatin_merge.merge(final_rppa,on='CELL_LINE',how='inner')\n",
        "drugchromatinrrpa_merge=drugchromatinrrpa_merge.drop_duplicates()\n",
        "drugchromatinmetabolomics_merge=drugchromatin_merge.merge(final_metabolomics,on='CELL_LINE',how='inner')\n",
        "drugchromatinmetabolomics_merge=drugchromatinmetabolomics_merge.drop_duplicates()\n",
        "drugrrpametabolomics_merge=drugRPPA_merge.merge(final_metabolomics,on='CELL_LINE',how='inner')\n",
        "drugrrpametabolomics_merge=drugrrpametabolomics_merge.drop_duplicates()"
      ]
    },
    {
      "cell_type": "code",
      "execution_count": 240,
      "metadata": {},
      "outputs": [
        {
          "data": {
            "text/plain": [
              "(14292, 96)"
            ]
          },
          "execution_count": 240,
          "metadata": {},
          "output_type": "execute_result"
        }
      ],
      "source": [
        "drugrrpametabolomics_merge.shape"
      ]
    },
    {
      "cell_type": "code",
      "execution_count": 238,
      "metadata": {},
      "outputs": [
        {
          "data": {
            "text/plain": [
              "(21663, 96)"
            ]
          },
          "execution_count": 238,
          "metadata": {},
          "output_type": "execute_result"
        }
      ],
      "source": [
        "drugchromatinmetabolomics_merge.shape"
      ]
    },
    {
      "cell_type": "code",
      "execution_count": 235,
      "metadata": {},
      "outputs": [
        {
          "data": {
            "text/plain": [
              "(20700, 96)"
            ]
          },
          "execution_count": 235,
          "metadata": {},
          "output_type": "execute_result"
        }
      ],
      "source": [
        "drugchromatinrrpa_merge.shape"
      ]
    },
    {
      "cell_type": "markdown",
      "metadata": {},
      "source": [
        "Merge all"
      ]
    },
    {
      "cell_type": "code",
      "execution_count": 243,
      "metadata": {},
      "outputs": [],
      "source": [
        "# Merging the DataFrames using 'inner' join on 'CELL_LINE'\n",
        "drugALLomics_merge = drugdata.merge(final_rppa, on='CELL_LINE', how='inner')\n",
        "drugALLomics_merge = drugALLomics_merge.drop_duplicates()\n",
        "drugALLomics_merge = drugALLomics_merge.merge(final_chromatin, on='CELL_LINE', how='inner')\n",
        "drugALLomics_merge = drugALLomics_merge.drop_duplicates()\n",
        "drugALLomics_merge = drugALLomics_merge.merge(final_metabolomics, on='CELL_LINE', how='inner')\n",
        "\n",
        "# Removing duplicate rows\n",
        "drugALLomics_merge = drugALLomics_merge.drop_duplicates()"
      ]
    },
    {
      "cell_type": "code",
      "execution_count": 244,
      "metadata": {},
      "outputs": [
        {
          "data": {
            "text/plain": [
              "(20604, 116)"
            ]
          },
          "execution_count": 244,
          "metadata": {},
          "output_type": "execute_result"
        }
      ],
      "source": [
        "drugALLomics_merge.shape"
      ]
    },
    {
      "cell_type": "code",
      "execution_count": null,
      "metadata": {},
      "outputs": [],
      "source": [
        "drugALLomics_merge.head(1)"
      ]
    },
    {
      "cell_type": "code",
      "execution_count": null,
      "metadata": {},
      "outputs": [],
      "source": [
        "drugALLomics_merge.to_csv('drugALLomics_merge.csv',index=False)"
      ]
    },
    {
      "cell_type": "code",
      "execution_count": null,
      "metadata": {},
      "outputs": [],
      "source": []
    }
  ],
  "metadata": {
    "colab": {
      "provenance": []
    },
    "kernelspec": {
      "display_name": "Python 3",
      "name": "python3"
    },
    "language_info": {
      "codemirror_mode": {
        "name": "ipython",
        "version": 3
      },
      "file_extension": ".py",
      "mimetype": "text/x-python",
      "name": "python",
      "nbconvert_exporter": "python",
      "pygments_lexer": "ipython3",
      "version": "3.11.4"
    }
  },
  "nbformat": 4,
  "nbformat_minor": 0
}
